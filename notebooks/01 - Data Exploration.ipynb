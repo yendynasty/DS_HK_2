{
 "metadata": {
  "name": "",
  "signature": "sha256:fae21f320ffd2fb56233cd5f7d892edb89ff541dd1f7b09062cc251431636614"
 },
 "nbformat": 3,
 "nbformat_minor": 0,
 "worksheets": [
  {
   "cells": [
    {
     "cell_type": "code",
     "collapsed": false,
     "input": [
      "%%javascript\n",
      "    function is_local(){\n",
      "      return (document.location.hostname == \"localhost\" || document.location.hostname == '127.0.0.1')\n",
      "    }\n",
      "    var url = is_local() ? \"http://localhost:8000/theme/custom.js\" : \"http://odhk.github.io/hyrule_theme/custom.js\"\n",
      "    $.getScript(url)"
     ],
     "language": "python",
     "metadata": {
      "slideshow": {
       "slide_type": "skip"
      }
     },
     "outputs": [
      {
       "javascript": [
        "    function is_local(){\n",
        "      return (document.location.hostname == \"localhost\" || document.location.hostname == '127.0.0.1')\n",
        "    }\n",
        "    var url = is_local() ? \"http://localhost:8000/theme/custom.js\" : \"http://odhk.github.io/hyrule_theme/custom.js\"\n",
        "    $.getScript(url)"
       ],
       "metadata": {},
       "output_type": "display_data",
       "text": [
        "<IPython.core.display.Javascript at 0x213e450>"
       ]
      }
     ],
     "prompt_number": 1
    },
    {
     "cell_type": "markdown",
     "metadata": {
      "slideshow": {
       "slide_type": "slide"
      }
     },
     "source": [
      "# The Journey Begins"
     ]
    },
    {
     "cell_type": "markdown",
     "metadata": {},
     "source": [
      "> We don\u2019t receive wisdom; we must discover it for ourselves after a journey that no one can take for us or spare us.\n",
      "\n",
      "<footer>~ Marcel Proust</footer>"
     ]
    },
    {
     "cell_type": "markdown",
     "metadata": {
      "slideshow": {
       "slide_type": "slide"
      }
     },
     "source": [
      "## Logistics"
     ]
    },
    {
     "cell_type": "markdown",
     "metadata": {},
     "source": [
      "**Instructor** : Mart van de Ven\n",
      "\n",
      "**Contact** : m@type.hk // +852 9149 1764\n",
      "\n",
      "\n",
      "**Classes**\n",
      "* Monday, 19:00 - 22:00\n",
      "* Wednesday, 19:00 - 22:00\n",
      "* Location : Robin Room, 8/F, The Garage, 33 Des Voex Road,  Central Hong Kong\n",
      "\n",
      "**Workload outside of class** : Roughly 4 hours a week"
     ]
    },
    {
     "cell_type": "markdown",
     "metadata": {},
     "source": [
      "![break](assets/agenda.png)"
     ]
    },
    {
     "cell_type": "markdown",
     "metadata": {
      "slideshow": {
       "slide_type": "slide"
      }
     },
     "source": [
      "## Agenda"
     ]
    },
    {
     "cell_type": "markdown",
     "metadata": {},
     "source": [
      "1. Goals Of The Course\n",
      "1. What Is Data Science?\n",
      "1. The Data Mining Workflow\n",
      "\n",
      "**Labs** :\n",
      "1. Python Setup\n",
      "1.  Working In Unix And Python"
     ]
    },
    {
     "cell_type": "markdown",
     "metadata": {},
     "source": [
      "![break](assets/voronoi.png)"
     ]
    },
    {
     "cell_type": "markdown",
     "metadata": {
      "slideshow": {
       "slide_type": "slide"
      }
     },
     "source": [
      "## Goals of the Course"
     ]
    },
    {
     "cell_type": "markdown",
     "metadata": {},
     "source": [
      "* Insight in how to understand and read data\n",
      "* Gain techniques for manipulating data\n",
      "* Learn machine learning algorithms commonly used in practice\n",
      "\n",
      "**Lots and lots of practice!**\n",
      "\n"
     ]
    },
    {
     "cell_type": "markdown",
     "metadata": {
      "slideshow": {
       "slide_type": "slide"
      }
     },
     "source": [
      "### Lecture Material"
     ]
    },
    {
     "cell_type": "markdown",
     "metadata": {},
     "source": [
      "Distributed as **iPython Notebooks**\n",
      "\n",
      "Generally lecture notes will follow these guidelines:\n",
      "* Cover theory in the first half\n",
      "* List materials and references for further reading\n",
      "* Code demos which implement the theory\n",
      "* Assigned Homework excercises to check understanding "
     ]
    },
    {
     "cell_type": "markdown",
     "metadata": {},
     "source": [
      "![break](assets/theory.png)"
     ]
    },
    {
     "cell_type": "markdown",
     "metadata": {
      "slideshow": {
       "slide_type": "slide"
      }
     },
     "source": [
      "## What is Data Science?"
     ]
    },
    {
     "cell_type": "markdown",
     "metadata": {},
     "source": [
      "* A set of tools and techniques used to extract useful information from data.\n",
      "* An interdisciplinary, problem-oriented subject."
     ]
    },
    {
     "cell_type": "markdown",
     "metadata": {},
     "source": [
      "[![](assets/DS_venn_diagram.png)](http://drewconway.com/zia/2013/3/26/the-data-science-venn-diagram)"
     ]
    },
    {
     "cell_type": "markdown",
     "metadata": {
      "slideshow": {
       "slide_type": "slide"
      }
     },
     "source": [
      "* The application of scientific techniques to practical problems.\n",
      "* A rapidly growing field."
     ]
    },
    {
     "cell_type": "markdown",
     "metadata": {},
     "source": [
      "[![](assets/DS_diagram.jpg)](http://www.p-value.info/2012/12/what-is-data-scientist.html)"
     ]
    },
    {
     "cell_type": "markdown",
     "metadata": {
      "slideshow": {
       "slide_type": "slide"
      }
     },
     "source": [
      "### Who Uses Data Science?"
     ]
    },
    {
     "cell_type": "markdown",
     "metadata": {},
     "source": [
      "![](assets/DS_users.png)]"
     ]
    },
    {
     "cell_type": "markdown",
     "metadata": {
      "slideshow": {
       "slide_type": "slide"
      }
     },
     "source": [
      "#### Data Journalism"
     ]
    },
    {
     "cell_type": "markdown",
     "metadata": {},
     "source": [
      "![](assets/sotu_dumber.png)"
     ]
    },
    {
     "cell_type": "markdown",
     "metadata": {
      "slideshow": {
       "slide_type": "slide"
      }
     },
     "source": [
      "#### DIY Playground"
     ]
    },
    {
     "cell_type": "markdown",
     "metadata": {},
     "source": [
      "\n",
      "\n",
      "[**Music + Data**](http://labs.echonest.com/Uploader/index.html?trid=TRORQWV13762CDDF4C)"
     ]
    },
    {
     "cell_type": "markdown",
     "metadata": {
      "slideshow": {
       "slide_type": "slide"
      }
     },
     "source": [
      "#### Others"
     ]
    },
    {
     "cell_type": "markdown",
     "metadata": {},
     "source": [
      "* Stack Overflow tag recommendation and response time prediction\n",
      "* Locating ethnic food in ethnic neighborhoods\n",
      "* Building optimal fantasy football teams\n",
      "* Recommending new musical artists\n",
      "* Identifying key areas to get a taxi in NYC\n",
      "* Finding the right job for you"
     ]
    },
    {
     "cell_type": "markdown",
     "metadata": {
      "slideshow": {
       "slide_type": "slide"
      }
     },
     "source": [
      "### What Makes a Good Data Scientist?"
     ]
    },
    {
     "cell_type": "markdown",
     "metadata": {},
     "source": [
      "![](assets/DS_qualities.png)"
     ]
    },
    {
     "cell_type": "markdown",
     "metadata": {
      "slideshow": {
       "slide_type": "slide"
      }
     },
     "source": [
      "* Statistical and machine learning knowledge\n",
      "* Computer Science experience (Applied Math)\n",
      "* Academic curiosity\n",
      "* Product sense\n",
      "* Storytelling\n",
      "* Cleverness"
     ]
    },
    {
     "cell_type": "markdown",
     "metadata": {
      "slideshow": {
       "slide_type": "slide"
      }
     },
     "source": [
      "### Review"
     ]
    },
    {
     "cell_type": "markdown",
     "metadata": {},
     "source": [
      "1. Which companies do you know that use Data Science in their products?"
     ]
    },
    {
     "cell_type": "markdown",
     "metadata": {},
     "source": [
      "![break](assets/theory.png)"
     ]
    },
    {
     "cell_type": "markdown",
     "metadata": {
      "slideshow": {
       "slide_type": "slide"
      }
     },
     "source": [
      "## The Data Science Workflow"
     ]
    },
    {
     "cell_type": "markdown",
     "metadata": {
      "slideshow": {
       "slide_type": "slide"
      }
     },
     "source": [
      "### Dataist"
     ]
    },
    {
     "cell_type": "markdown",
     "metadata": {},
     "source": [
      "1. Obtain\n",
      "1. Scrub\n",
      "1. Explore\n",
      "1. Model\n",
      "1. Interpret"
     ]
    },
    {
     "cell_type": "markdown",
     "metadata": {
      "slideshow": {
       "slide_type": "slide"
      }
     },
     "source": [
      "### Jeff Hammerbacher: Chief Scientist, Cloudera"
     ]
    },
    {
     "cell_type": "markdown",
     "metadata": {},
     "source": [
      "1. Identify problem\n",
      "1. Instrument data sources\n",
      "1. Collect data\n",
      "1. Prepare data (integrate, transform, clean, impute, filter, aggregate)\n",
      "1. Build model\n",
      "1. Evaluate model\n",
      "1. Communicate results"
     ]
    },
    {
     "cell_type": "markdown",
     "metadata": {
      "slideshow": {
       "slide_type": "slide"
      }
     },
     "source": [
      "### Ted Johnson: AT&T Research"
     ]
    },
    {
     "cell_type": "markdown",
     "metadata": {},
     "source": [
      "1. Assemble an accurate and relevant data set\n",
      "1. Choose the appropriate algorithm\n"
     ]
    },
    {
     "cell_type": "markdown",
     "metadata": {
      "slideshow": {
       "slide_type": "slide"
      }
     },
     "source": [
      "### Ben Fry: Principal, Fathom"
     ]
    },
    {
     "cell_type": "markdown",
     "metadata": {},
     "source": [
      "1. Acquire\n",
      "1. Parse\n",
      "1. Filter\n",
      "1. Mine\n",
      "1. Represent\n",
      "1. Refine\n",
      "1. Interact"
     ]
    },
    {
     "cell_type": "markdown",
     "metadata": {
      "slideshow": {
       "slide_type": "slide"
      }
     },
     "source": [
      "#### Interdisciplinary"
     ]
    },
    {
     "cell_type": "markdown",
     "metadata": {},
     "source": [
      "![](assets/benfry-workflow.jpg)"
     ]
    },
    {
     "cell_type": "markdown",
     "metadata": {
      "slideshow": {
       "slide_type": "slide"
      }
     },
     "source": [
      "#### Recursion"
     ]
    },
    {
     "cell_type": "markdown",
     "metadata": {},
     "source": [
      "![](assets/benfry-workflow-recursion.png)"
     ]
    },
    {
     "cell_type": "markdown",
     "metadata": {
      "slideshow": {
       "slide_type": "slide"
      }
     },
     "source": [
      "### Example"
     ]
    },
    {
     "cell_type": "markdown",
     "metadata": {},
     "source": [
      "1. Collect data around user retention, user actions within the product,\n",
      "potentially find data outside of company\n",
      "1. Extract aggregated values from raw data\n",
      "    1. How many times did a user share through Facebook within a week? A month?\n",
      "    1. How often did they open up our emails?\n",
      "1. Examine data to find common distributions and correlations\n",
      "1. Extract new meaning to predict if user would purchase again\n",
      "1. Share results (and probably also go back to the drawing board)\n"
     ]
    },
    {
     "cell_type": "markdown",
     "metadata": {
      "slideshow": {
       "slide_type": "slide"
      }
     },
     "source": [
      "### Review"
     ]
    },
    {
     "cell_type": "markdown",
     "metadata": {},
     "source": [
      "1. What are roughly the steps common to all Data Science Workflows\n",
      "1. Could you see any shortcomings of the presented approaches? Are there any steps you expected to be present?"
     ]
    },
    {
     "cell_type": "markdown",
     "metadata": {},
     "source": [
      "![break](assets/code.png)"
     ]
    },
    {
     "cell_type": "markdown",
     "metadata": {
      "slideshow": {
       "slide_type": "slide"
      }
     },
     "source": [
      "## Python Setup"
     ]
    },
    {
     "cell_type": "markdown",
     "metadata": {},
     "source": [
      "High variety of languages used in practice\n",
      "\n",
      "* **Statistics**: _Python_, R, Matlab, Julia, Fortran, STATA\n",
      "* **Scripting**: _Python_, Ruby, Scala, Java\n",
      "* **Data Querying**: SQL, Hive, Pig"
     ]
    },
    {
     "cell_type": "markdown",
     "metadata": {
      "slideshow": {
       "slide_type": "slide"
      }
     },
     "source": [
      "Python is an open source project which is maintained by a large and very active community.\n",
      "\n",
      "It was originally created by Guido Van Rossum in the 1990s, who currently holds the title of Benevolent Dictator For Life (BDFL).\n",
      "\n",
      "The presence of a BDFL means that Python has a unified design philosophy.\n",
      "\n",
      "This design philosophy emphasizes readability and ease of use, and is codified in PEP8 (the Python style guide) and PEP20 (the Zen of Python).\n",
      "\n",
      "Python in nature is not a statistical language, though used in a variety of ways: web applications, server maintenance, reading and writing text files:\n",
      "* [Web Development](https://www.djangoproject.com/)\n",
      "* [DevOps](http://docs.fabfile.org/en/1.6/)\n",
      "* [(etc)](https://github.com/languages/Python)\n",
      "\n",
      "Python evolved alongside Bioinformatics and Data Analysis, introducing stats packages (numpy, scipy) and machine learning packages (scikit-learn, NLTK)\n",
      "\n"
     ]
    },
    {
     "cell_type": "markdown",
     "metadata": {
      "slideshow": {
       "slide_type": "slide"
      }
     },
     "source": [
      "### Strengths and Weaknesses"
     ]
    },
    {
     "cell_type": "markdown",
     "metadata": {},
     "source": [
      "#### ADVANTAGES\n",
      "\n",
      "* Very Fast Compared To R \n",
      "* Useful Across Platforms \n",
      "* Easy To Integrate\n",
      "* Common Oop Techniques\n",
      "* Great Documentation Support\n",
      "\n",
      "#### DISADVANTAGES\n",
      "\n",
      "* No Great Visualization Packages (yet!)\n",
      "* Natural Display Is Less Readable\n",
      "* Less Newbie Friendly\n",
      "* Lack Of Parallel Processing\n"
     ]
    },
    {
     "cell_type": "markdown",
     "metadata": {},
     "source": [
      "![break](assets/code.png)"
     ]
    },
    {
     "cell_type": "markdown",
     "metadata": {
      "slideshow": {
       "slide_type": "slide"
      }
     },
     "source": [
      "## Python Data Sctructures"
     ]
    },
    {
     "cell_type": "markdown",
     "metadata": {},
     "source": [
      "The most basic data structure is the None type. This is the equivalent of NULL in other languages.\n",
      "\n",
      "There are four numeric types: \n",
      "> **int**, **float**, **bool**, **complex**."
     ]
    },
    {
     "cell_type": "markdown",
     "metadata": {
      "slideshow": {
       "slide_type": "slide"
      }
     },
     "source": [
      "#### Numeric Types"
     ]
    },
    {
     "cell_type": "code",
     "collapsed": false,
     "input": [
      "print type(1)\n",
      "print type(2.5)\n",
      "print type(True)\n",
      "print type(2+3j)"
     ],
     "language": "python",
     "metadata": {},
     "outputs": [
      {
       "output_type": "stream",
       "stream": "stdout",
       "text": [
        "<type 'int'>\n",
        "<type 'float'>\n",
        "<type 'bool'>\n",
        "<type 'complex'>\n"
       ]
      }
     ],
     "prompt_number": 68
    },
    {
     "cell_type": "markdown",
     "metadata": {
      "slideshow": {
       "slide_type": "slide"
      }
     },
     "source": [
      "#### Lists"
     ]
    },
    {
     "cell_type": "markdown",
     "metadata": {},
     "source": [
      "The next basic data type is the Python list.\n",
      "\n",
      "> A list is an ordered collection of elements, and these elements can be of arbitrary type. Lists are mutable, meaning they can be changed in-place."
     ]
    },
    {
     "cell_type": "code",
     "collapsed": false,
     "input": [
      "k = [1, 'b', True]\n",
      "print k[2]\n",
      "\n",
      "k[1] = 'a'\n",
      "print k"
     ],
     "language": "python",
     "metadata": {},
     "outputs": [
      {
       "output_type": "stream",
       "stream": "stdout",
       "text": [
        "True\n",
        "[1, 'a', True]\n"
       ]
      }
     ],
     "prompt_number": 47
    },
    {
     "cell_type": "markdown",
     "metadata": {
      "slideshow": {
       "slide_type": "slide"
      }
     },
     "source": [
      "#### Tuples"
     ]
    },
    {
     "cell_type": "markdown",
     "metadata": {},
     "source": [
      "> tuples are immutable arrays of arbitrary elements."
     ]
    },
    {
     "cell_type": "code",
     "collapsed": false,
     "input": [
      "x = (1, 'a', 2.5)\n",
      "print x\n",
      "\n",
      "print x[0]\n",
      "x[1] = 'b'"
     ],
     "language": "python",
     "metadata": {},
     "outputs": [
      {
       "output_type": "stream",
       "stream": "stdout",
       "text": [
        "(1, 'a', 2.5)\n",
        "1\n"
       ]
      },
      {
       "ename": "TypeError",
       "evalue": "'tuple' object does not support item assignment",
       "output_type": "pyerr",
       "traceback": [
        "\u001b[1;31m---------------------------------------------------------------------------\u001b[0m\n\u001b[1;31mTypeError\u001b[0m                                 Traceback (most recent call last)",
        "\u001b[1;32m<ipython-input-49-73405f0c691c>\u001b[0m in \u001b[0;36m<module>\u001b[1;34m()\u001b[0m\n\u001b[0;32m      3\u001b[0m \u001b[1;33m\u001b[0m\u001b[0m\n\u001b[0;32m      4\u001b[0m \u001b[1;32mprint\u001b[0m \u001b[0mx\u001b[0m\u001b[1;33m[\u001b[0m\u001b[1;36m0\u001b[0m\u001b[1;33m]\u001b[0m\u001b[1;33m\u001b[0m\u001b[0m\n\u001b[1;32m----> 5\u001b[1;33m \u001b[0mx\u001b[0m\u001b[1;33m[\u001b[0m\u001b[1;36m1\u001b[0m\u001b[1;33m]\u001b[0m \u001b[1;33m=\u001b[0m \u001b[1;34m'b'\u001b[0m\u001b[1;33m\u001b[0m\u001b[0m\n\u001b[0m",
        "\u001b[1;31mTypeError\u001b[0m: 'tuple' object does not support item assignment"
       ]
      }
     ],
     "prompt_number": 49
    },
    {
     "cell_type": "markdown",
     "metadata": {},
     "source": [
      "Tuples are frequently used behind the scenes in a special type of variable assignment called tuple packing/unpacking."
     ]
    },
    {
     "cell_type": "markdown",
     "metadata": {
      "slideshow": {
       "slide_type": "slide"
      }
     },
     "source": [
      "#### Strings"
     ]
    },
    {
     "cell_type": "markdown",
     "metadata": {
      "slideshow": {
       "slide_type": "-"
      }
     },
     "source": [
      "The string type in Python represents an immutable ordered array of characters (note there is no char type).\n",
      "\n",
      "> Strings support slicing and indexing operations like arrays, and have many other string-specific functions as well. \n",
      "\n",
      "String processing is one area where Python excels.\n"
     ]
    },
    {
     "cell_type": "code",
     "collapsed": false,
     "input": [
      "name = \"Mart van de Ven\"\n",
      "name"
     ],
     "language": "python",
     "metadata": {},
     "outputs": [
      {
       "metadata": {},
       "output_type": "pyout",
       "prompt_number": 56,
       "text": [
        "'Mart van de Ven'"
       ]
      }
     ],
     "prompt_number": 56
    },
    {
     "cell_type": "markdown",
     "metadata": {
      "slideshow": {
       "slide_type": "slide"
      }
     },
     "source": [
      "#### Dictionaries"
     ]
    },
    {
     "cell_type": "markdown",
     "metadata": {},
     "source": [
      "Associative arrays (or hash tables) are implemented in Python as the dictionary type."
     ]
    },
    {
     "cell_type": "code",
     "collapsed": false,
     "input": [
      "ds_hk_2 = {\n",
      "    'subject':'data science',\n",
      "    'instrutor': 'Mart',\n",
      "    'time': 1900,\n",
      "    'is_amazing' : True}\n",
      "\n",
      "print 'We are taking ' + ds_hk_2['subject']\n",
      "print ds_hk_2['is_amazing']"
     ],
     "language": "python",
     "metadata": {},
     "outputs": [
      {
       "output_type": "stream",
       "stream": "stdout",
       "text": [
        "We are taking data science\n",
        "True\n"
       ]
      }
     ],
     "prompt_number": 64
    },
    {
     "cell_type": "markdown",
     "metadata": {},
     "source": [
      "> Dictionaries are unordered collections of key-value pairs, and dictionary keys must be immutable.\n"
     ]
    },
    {
     "cell_type": "markdown",
     "metadata": {
      "slideshow": {
       "slide_type": "slide"
      }
     },
     "source": [
      "#### Sets"
     ]
    },
    {
     "cell_type": "markdown",
     "metadata": {},
     "source": [
      "Another basic Python data type is the set. Sets are unordered mutable collections of distinct elements."
     ]
    },
    {
     "cell_type": "code",
     "collapsed": false,
     "input": [
      "y = set([1,2,3,3,3,2,1,6,7,8])\n",
      "y"
     ],
     "language": "python",
     "metadata": {},
     "outputs": [
      {
       "metadata": {},
       "output_type": "pyout",
       "prompt_number": 66,
       "text": [
        "{1, 2, 3, 6, 7, 8}"
       ]
      }
     ],
     "prompt_number": 66
    },
    {
     "cell_type": "markdown",
     "metadata": {},
     "source": [
      "These are particularly useful for checking membership of an element and for ensuring element uniqueness."
     ]
    },
    {
     "cell_type": "markdown",
     "metadata": {},
     "source": [
      "![break](assets/code.png)"
     ]
    },
    {
     "cell_type": "markdown",
     "metadata": {
      "slideshow": {
       "slide_type": "slide"
      }
     },
     "source": [
      "## LAB: UNIX AND PYTHON"
     ]
    },
    {
     "cell_type": "markdown",
     "metadata": {},
     "source": [
      "* Learn how to get around the terminal\n",
      "* Using curl to grab files online\n",
      "* python basics (int, float, str, list, tuple)\n",
      "* Piping data into python"
     ]
    },
    {
     "cell_type": "heading",
     "level": 3,
     "metadata": {},
     "source": [
      "Practice: Unix"
     ]
    },
    {
     "cell_type": "markdown",
     "metadata": {},
     "source": [
      "The are following commands to use in your [terminal](http://blog.teamtreehouse.com/introduction-to-the-mac-os-x-command-line)\n",
      "\n",
      "* `pwd`, find where we are in the Volume.\n",
      "* `ls`, list all the files and folders in our current location. `ls` accepts a lot of arguments to view extended information about the files, like permissions, file size, etc.\n",
      "    * `ls -l`, long format, displaying Unix file types, permissions, number of hard links, owner, group, size, last-modified date and filename\n",
      "    * `ls -a`, lists all files in the given directory, including those whose names start with \".\" (which are hidden files in Unix).\n",
      "    * `ls -R`, recursively lists subdirectories.\n",
      "    * `ls -t`, sort the list of files by modification time.\n",
      "* `sudo`, prepend before a command to give it superuser permissions.\n",
      "* `cat`, puts a file through standard in/out. Generally not as useful as...\n",
      "* `less`, a simple file viewer in bash. Here we can use\n",
      "\t* the arrows to move around\n",
      "\t* `/` to run a regex match\n",
      "\t* `q` to go back to the command line\n",
      "* `cd`, change directory\n",
      "    * `cd ..`, to move up to the parent directory\n",
      "* `mkdir`, make a new directory\n",
      "* `mv`, move a file, also used for renaming\n",
      "* `rm`, remove a file\n",
      "    * `rm -r`, recorsively remove a directory\n"
     ]
    },
    {
     "cell_type": "heading",
     "level": 4,
     "metadata": {},
     "source": [
      "Try it out"
     ]
    },
    {
     "cell_type": "markdown",
     "metadata": {},
     "source": [
      "```bash\n",
      "cd # return to user directory\n",
      "\n",
      "touch file.txt\n",
      "ls # Lists our file!\n",
      "\n",
      "mv file.txt file_new.txt\n",
      "ls # Our file changed names!\n",
      "\n",
      "cp file_new.txt file_copied.txt\n",
      "ls # File was copied!\n",
      "\n",
      "echo 'Files can be written this way as well' > text_file.txt\n",
      "less text_file.txt\n",
      "```"
     ]
    },
    {
     "cell_type": "markdown",
     "metadata": {},
     "source": [
      "and using `curl` to download files. "
     ]
    },
    {
     "cell_type": "markdown",
     "metadata": {},
     "source": [
      "```bash\n",
      "# Downloading a file using curl\n",
      "curl http://stat.columbia.edu/~rachel/datasets/nyt1.csv > nytimes.csv\n",
      "\n",
      "# With longer files, we can use head or tail to read the first few or last few lines.\n",
      "head nytimes.csv\n",
      "tail nytimes.csv\n",
      "```"
     ]
    },
    {
     "cell_type": "markdown",
     "metadata": {},
     "source": [
      "**Advanced** [ZSH](http://www.maclife.com/article/columns/terminal_101_better_shell_zsh) is a better shell, with [Oh-My-ZSH](https://github.com/robbyrussell/oh-my-zsh) being a community-curated set of extensions."
     ]
    },
    {
     "cell_type": "heading",
     "level": 3,
     "metadata": {},
     "source": [
      "Practice: Python"
     ]
    },
    {
     "cell_type": "markdown",
     "metadata": {},
     "source": [
      "Open up your iPython REPL by typing the following into your terminal\n",
      "\n",
      "> ipython\n",
      "\n",
      "If Anaconda was installed correctly, we should see this referenced as ipython opens up"
     ]
    },
    {
     "cell_type": "code",
     "collapsed": false,
     "input": [
      "1 # Integers\n",
      "print 2\n",
      "\n",
      "1.0 # Floats\n",
      "print 2.0\n",
      "\n",
      "0 # Ints, but can also mean True or False\n",
      "1\n",
      "\n",
      "print 0 == True\n",
      "print 1 == True\n",
      "\n",
      "print 'string' # strings\n",
      "print 'A whole sentence'\n",
      "\n",
      "print [1, 2, 3] # list, mutable (can change)\n",
      "\n",
      "print (1, 2, 3) # tuple, immutable (can't be edited)"
     ],
     "language": "python",
     "metadata": {},
     "outputs": [
      {
       "output_type": "stream",
       "stream": "stdout",
       "text": [
        "2\n",
        "2.0\n",
        "False\n",
        "True\n",
        "string\n",
        "A whole sentence\n",
        "[1, 2, 3]\n",
        "(1, 2, 3)\n"
       ]
      }
     ],
     "prompt_number": 6
    },
    {
     "cell_type": "markdown",
     "metadata": {},
     "source": [
      "We're going to write our first class Python script that sums up a whole column of text from a comma seperated file.\n",
      "\n",
      "Copy the following into your text editor and save it as `nytimes.py`"
     ]
    },
    {
     "cell_type": "markdown",
     "metadata": {},
     "source": [
      "```python\n",
      "#!/usr/bin/python\n",
      "# Import required libraries\n",
      "import sys\n",
      "\n",
      "# Start a counter and store the textfile in memory\n",
      "count = 0\n",
      "lines = sys.stdin.readlines()\n",
      "lines.pop(0)\n",
      "\n",
      "# For each line, find the sum of index 2 in the list.\n",
      "for line in lines:\n",
      "  count = count + int(line.strip().split(',')[2])\n",
      "\n",
      "print count\n",
      "\n",
      "### EOF ###\n",
      "```"
     ]
    },
    {
     "cell_type": "markdown",
     "metadata": {},
     "source": [
      "Let's make this file executable, and run it!"
     ]
    },
    {
     "cell_type": "markdown",
     "metadata": {},
     "source": [
      "```bash\n",
      "chmod +X counter.py\n",
      "cat nytimes.csv | python counter.py\n",
      "```"
     ]
    },
    {
     "cell_type": "markdown",
     "metadata": {},
     "source": [
      "We can print a more robust line in bash, so let's change the last line to this instead:"
     ]
    },
    {
     "cell_type": "code",
     "collapsed": false,
     "input": [
      "print 'Impressions Sum:', count"
     ],
     "language": "python",
     "metadata": {},
     "outputs": [
      {
       "output_type": "stream",
       "stream": "stdout",
       "text": [
        "Impressions Sum: 0\n"
       ]
      }
     ],
     "prompt_number": 9
    },
    {
     "cell_type": "markdown",
     "metadata": {},
     "source": [
      "1. Right now the python script finds a sum of the impressions column. Update it to also return:\n",
      "\t1. The average age in the file\n",
      "\t1. Click through rate (avg clicks per impression)\n",
      "\t1. The oldest person in the file\n",
      "1. This should all be write out to the standard out using a few lines with \"print\"\n",
      "1. When you have a python script that works, save it in your personal homework directory under lesson01 .\n",
      "\n",
      "**EXTRA CREDIT**: \n",
      "\n",
      "How can you change the Python script a bit to:\n",
      "\n",
      "* Cleanly ignore all string values?\n",
      "* Output the results into a new text file? Read a guide on [file manipulation](http://www.pythonforbeginners.com/systems-programming/reading-and-writing-files-in-python/) to get you started.\n"
     ]
    },
    {
     "cell_type": "markdown",
     "metadata": {},
     "source": [
      "![break](assets/agenda.png)"
     ]
    },
    {
     "cell_type": "markdown",
     "metadata": {
      "slideshow": {
       "slide_type": "slide"
      }
     },
     "source": [
      "## FOR NEXT TIME:"
     ]
    },
    {
     "cell_type": "markdown",
     "metadata": {},
     "source": [
      "1. Find a data science link you want to share with the class. This can be a blog, paper worth reading, or article you found.\n",
      "\n",
      "**NEXT CLASS SUBJECT: LINEAR ALGEBRA**\n",
      "\n"
     ]
    }
   ],
   "metadata": {}
  }
 ]
}