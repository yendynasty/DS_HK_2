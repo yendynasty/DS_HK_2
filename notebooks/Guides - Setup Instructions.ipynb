{
 "metadata": {
  "name": "",
  "signature": "sha256:8115c8d4a8a5971846d4930a2f04e7bf340f1de7004944d467b40a3d97371963"
 },
 "nbformat": 3,
 "nbformat_minor": 0,
 "worksheets": [
  {
   "cells": [
    {
     "cell_type": "code",
     "collapsed": false,
     "input": [
      "%%javascript\n",
      "function is_local(){\n",
      "    return (document.location.hostname == \"localhost\" || document.location.hostname == '127.0.0.1')\n",
      "}\n",
      "var url = is_local() ? \"http://localhost:8000/theme/custom.js\" : \"http://odhk.github.io/hyrule_theme/custom.js\"\n",
      "$.getScript(url)"
     ],
     "language": "python",
     "metadata": {},
     "outputs": [
      {
       "javascript": [
        "function is_local(){\n",
        "    return (document.location.hostname == \"localhost\" || document.location.hostname == '127.0.0.1')\n",
        "}\n",
        "var url = is_local() ? \"http://localhost:8000/theme/custom.js\" : \"http://odhk.github.io/hyrule_theme/custom.js\"\n",
        "$.getScript(url)"
       ],
       "metadata": {},
       "output_type": "display_data",
       "text": [
        "<IPython.core.display.Javascript at 0x3349a50>"
       ]
      }
     ],
     "prompt_number": 1
    },
    {
     "cell_type": "heading",
     "level": 1,
     "metadata": {},
     "source": [
      "Data Science Setup Instructions"
     ]
    },
    {
     "cell_type": "markdown",
     "metadata": {},
     "source": [
      "There are a number of tools that are very useful to have installed on your machine.\n",
      "\n",
      "The minimum set of tools to start exploring data science with Python are\n",
      "\n",
      "* Python Environment\n",
      "* Text Editor\n",
      "* Version Control\n",
      "\n",
      "If you have a preference for a particular software that meets one of these requirements, then by all means, stick to what you are familiar with. But if you don't have a prefence I'd suggest you start off with following the install instructions for:\n",
      "\n",
      "* Python Environment : [**Anaconda**](http://docs.continuum.io/anaconda/install.html),  is a collection of the most popular modules used for scientific computing. It's the one-stop shop to get all the python modules for doing data science\n",
      "* Text Editor : [**SublimeText3**](http://www.sublimetext.com/3), is a sophisticated text editor for code, markup and prose. You'll love the slick user interface, extraordinary features and amazing performance.\n",
      "* Version Control : [**Git**](http://nbviewer.ipython.org/github/ga-students/DS_HK_2/blob/gh-pages/notebooks/Guides%20-%20Git%20&%20GitHub.ipynb), saves 'snapshots' of your work and lets you share it with others.\n",
      "\n",
      "Once you've installed the minimum requirements, consider beefing up your system with additional instructions for\n",
      "\n",
      "* [Mac OSX](#Mac-OSX)\n",
      "* [Linux](#Linux)\n",
      "* [Windows](#Windows)"
     ]
    },
    {
     "cell_type": "heading",
     "level": 3,
     "metadata": {},
     "source": [
      "Mac OSX"
     ]
    },
    {
     "cell_type": "markdown",
     "metadata": {},
     "source": [
      "Once you have the [minimal setup](#Developer-Setup-Instructions), you might also consider improving your developer experience with the follow. In order of importance:\n",
      "\n",
      "* Update to the [latest version of OSX](http://www.apple.com/hk/en/osx/)\n",
      "* [Install XCode](https://developer.apple.com/xcode/) for its command-line tools, and open it at least once - then never again.\n",
      "* Install a package manager for OSX. [Homebrew](http://brew.sh/) is installed by pasting the following into a terminal (search for the `terminal` app in spotlight) and follow the instructions\n",
      "\n",
      "    > ruby -e \"$(curl -fsSL https://raw.github.com/Homebrew/homebrew/go/install)\"\n",
      "        \n",
      "* If you've installed Homebrew, you now have the `brew` command which allows you to install a better 'shell' called `ZSH`, this gives you better auto-completion options so you'll have to type less in the terminal. Paste the follow into the terminal.\n",
      "    \n",
      "    > brew install zsh\n",
      "\n",
      "* Once you've installed ZSH, be sure to also get this community curated collection of extensions for ZSH, called `oh-my-zsh`. Paste into the terminal.\n",
      "\n",
      "   > curl -L https://raw.github.com/robbyrussell/oh-my-zsh/master/tools/install.sh | ZSH=~/.dotfiles/zsh sh\n",
      "\n",
      "* Install [iTerm2](http://www.iterm2.com/#/section/home) as a superior Terminal Emulator."
     ]
    },
    {
     "cell_type": "heading",
     "level": 3,
     "metadata": {},
     "source": [
      "Linux"
     ]
    },
    {
     "cell_type": "markdown",
     "metadata": {},
     "source": [
      "Once you have the [minimal setup](#Developer-Setup-Instructions), you should be ready to go.\n",
      "\n",
      "* If you'd like to have a more customisable shell, consider installing zsh with your package manager of choice, e.g.\n",
      "\n",
      "> sudo apt-get install zsh\n",
      "    \n",
      "    or\n",
      "\n",
      "> sudo yum install zsh\n",
      "\n",
      "* Once you've installed ZSH, be sure to also get this community curated collection of extensions for ZSH, called `oh-my-zsh`. Paste into the terminal.\n",
      "\n",
      "   > curl -L https://raw.github.com/robbyrussell/oh-my-zsh/master/tools/install.sh | ZSH=~/.dotfiles/zsh sh\n",
      "\n",
      "* If you are looking to replace your default Terminal Emulator, give [Terminator](http://gnometerminator.blogspot.hk/p/introduction.html) a try."
     ]
    },
    {
     "cell_type": "heading",
     "level": 3,
     "metadata": {},
     "source": [
      "Windows"
     ]
    },
    {
     "cell_type": "markdown",
     "metadata": {},
     "source": [
      "Make sure you have followed the [minimal setup](#Developer-Setup-Instructions), and now have a programme called 'Git Bash'. \n",
      "\n",
      "Whenever we refer to 'the terminal' or you see `command line` instructions, you are expected to open `Git Bash` and paste/run them there.\n",
      "\n",
      "If you have more tips on doing data science under windows, feel free to [contact me](http://type.hk) and I'll add your suggestions here."
     ]
    },
    {
     "cell_type": "heading",
     "level": 2,
     "metadata": {},
     "source": [
      "iPython Notebooks"
     ]
    },
    {
     "cell_type": "markdown",
     "metadata": {},
     "source": [
      "iPython Notebooks are fantastic ways to distribute 'literate code'. That is, code which is annotated with a more extensive explanation of what it does. In the notebook's case, the explanation might also include graphics, plots and videos. "
     ]
    },
    {
     "cell_type": "markdown",
     "metadata": {},
     "source": [
      "In class I'll be running the `ipynb` command, which is just an alias for a command which starts both HTTP server for assets and notebooks, and then cleans up after itself once you close it."
     ]
    },
    {
     "cell_type": "markdown",
     "metadata": {},
     "source": [
      "```bash\n",
      "alias ipynb='nohup python -m SimpleHTTPServer >&/dev/null &; ipython notebook --pylab inline; sudo kill $(sudo lsof -t -i:8000)'\n",
      "```"
     ]
    },
    {
     "cell_type": "markdown",
     "metadata": {},
     "source": [
      "Depending on your shell, you can copy this line into either `~/.bashrc` or your ` ~/.zshrc`"
     ]
    },
    {
     "cell_type": "markdown",
     "metadata": {},
     "source": [
      "You can find out which shell you are running, by typing \n",
      "\n",
      "> ps -p $$\n",
      "\n",
      "in the terminal and looking at the `CMD` value."
     ]
    }
   ],
   "metadata": {}
  }
 ]
}