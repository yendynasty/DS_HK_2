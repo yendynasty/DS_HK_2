{
 "metadata": {
  "name": "",
  "signature": "sha256:b80301d5a76ef94401946bc196a0c7927dc9c4860f66185bcc213e20a780f45d"
 },
 "nbformat": 3,
 "nbformat_minor": 0,
 "worksheets": [
  {
   "cells": [
    {
     "cell_type": "code",
     "collapsed": false,
     "input": [
      "%%javascript\n",
      "function is_local(){\n",
      "    return (document.location.hostname == \"localhost\" || document.location.hostname == '127.0.0.1')\n",
      "}\n",
      "var url = is_local() ? \"http://localhost:8000/theme/custom.js\" : \"http://odhk.github.io/hyrule_theme/custom.js\"\n",
      "$.getScript(url)"
     ],
     "language": "python",
     "metadata": {},
     "outputs": [
      {
       "javascript": [
        "function is_local(){\n",
        "    return (document.location.hostname == \"localhost\" || document.location.hostname == '127.0.0.1')\n",
        "}\n",
        "var url = is_local() ? \"http://localhost:8000/theme/custom.js\" : \"http://odhk.github.io/hyrule_theme/custom.js\"\n",
        "$.getScript(url)"
       ],
       "metadata": {},
       "output_type": "display_data",
       "text": [
        "<IPython.core.display.Javascript at 0x2d0ba50>"
       ]
      }
     ],
     "prompt_number": 1
    },
    {
     "cell_type": "markdown",
     "metadata": {},
     "source": [
      "# Linear Algebra"
     ]
    },
    {
     "cell_type": "markdown",
     "metadata": {},
     "source": [
      "> If people do not believe that mathematics is simple, it is only because they do not realize how complicated life is\n",
      "\n",
      "<footer>~ John von Neumann, 1947 ACM keynote</footer>"
     ]
    },
    {
     "cell_type": "markdown",
     "metadata": {},
     "source": [
      "![break](assets/agenda.png)"
     ]
    },
    {
     "cell_type": "markdown",
     "metadata": {},
     "source": [
      "1. Linear Algebra Review\n",
      "1. The Python Control Flow\n",
      "\n",
      "**Labs** :\n",
      "1. Matrix Multiplication In Python\n",
      "1. Adding Control Flow Into Clicks Aggregation"
     ]
    },
    {
     "cell_type": "markdown",
     "metadata": {},
     "source": [
      "![break](assets/theory.png)"
     ]
    },
    {
     "cell_type": "heading",
     "level": 2,
     "metadata": {},
     "source": [
      "Linear Algebra Review"
     ]
    },
    {
     "cell_type": "markdown",
     "metadata": {},
     "source": [
      "In order to best understand most machine learning algorithms, we need some basis of linear algebra.\n",
      "\n",
      "> Linear algebra is best defined as mathematics in the multidimensional space and the mapping between said spaces."
     ]
    },
    {
     "cell_type": "markdown",
     "metadata": {},
     "source": [
      "### For Example"
     ]
    },
    {
     "cell_type": "markdown",
     "metadata": {},
     "source": [
      "$$y = mx + b$$"
     ]
    },
    {
     "cell_type": "markdown",
     "metadata": {},
     "source": [
      "$$y = m_{1}x_{1} + m_{2}x_{2} + b$$"
     ]
    },
    {
     "cell_type": "markdown",
     "metadata": {},
     "source": [
      "$$y = m_{1}x_{1} + m_{2}x_{2} + m_{3}x_{3} + m_{4}x_{4} + b$$"
     ]
    },
    {
     "cell_type": "markdown",
     "metadata": {},
     "source": [
      "$$y = m_{1}x_{1} + m_{2}x_{2} + m_{3}x_{3} + m_{4}x_{4} + m_{5}x_{5} + m_{6}x_{6} + m_{7}x_{7} + m_{8}x_{8} + m_{9}x_{9} + m_{10}x_{10} + b$$"
     ]
    },
    {
     "cell_type": "heading",
     "level": 3,
     "metadata": {},
     "source": [
      "Matrices"
     ]
    },
    {
     "cell_type": "markdown",
     "metadata": {},
     "source": [
      "> Matrices are an array of real numbers with m rows and n columns\n",
      "\n",
      "Each value in a matrix is called an entry."
     ]
    },
    {
     "cell_type": "markdown",
     "metadata": {},
     "source": [
      "$$\\begin{bmatrix}1 & 5 & 8 & 7\\\\2 & 1 & 3 & 6\\\\3 & 5 & 1 & 0\\\\4 & 6 & 0 & 1\\end{bmatrix}$$"
     ]
    },
    {
     "cell_type": "markdown",
     "metadata": {},
     "source": [
      "$A_{21}$ in the given matrix, refers to the entry on the 2nd row, in the 1st column. The value is 2. "
     ]
    },
    {
     "cell_type": "heading",
     "level": 3,
     "metadata": {},
     "source": [
      "Vectors"
     ]
    },
    {
     "cell_type": "markdown",
     "metadata": {},
     "source": [
      "> Vectors are a special kind of matrix, as they only consist of one dimension of real numbers.\n",
      "\n",
      "These look most like a numeric array (or **list**) in Python.\n",
      "\n",
      "$$\\begin{bmatrix}1 & 3 & 9 & 2\\end{bmatrix}$$\n",
      "\n",
      "Likewise, you can refer to each index or value similarly (`a[0]` in Python is the same entity as 0 in vector a)"
     ]
    },
    {
     "cell_type": "heading",
     "level": 3,
     "metadata": {},
     "source": [
      "Handling"
     ]
    },
    {
     "cell_type": "markdown",
     "metadata": {},
     "source": [
      "**Rule 1!**\n",
      "\n",
      "Matrices can be added together only when they are the same size. If they are not the same size, their sum is **undefined**.\n",
      "\n",
      "$$\\begin{bmatrix}1 & 3 & 9 & 2\\end{bmatrix} + \\begin{bmatrix}2 & 5 & 9 & 4\\end{bmatrix} = \n",
      "\\begin{bmatrix}3 & 8 & 18 & 6\\end{bmatrix} $$\n",
      "\n"
     ]
    },
    {
     "cell_type": "markdown",
     "metadata": {},
     "source": [
      "$$\\begin{bmatrix}8 & 72 & 3 & 1\\end{bmatrix} + \\begin{bmatrix}17 & 55 & 3 & 10\\end{bmatrix} = \n",
      " \\ ? $$"
     ]
    },
    {
     "cell_type": "markdown",
     "metadata": {},
     "source": [
      "**Rule 2!**\n",
      "\n",
      "Matrices can be multiplied by a scalar (single entity) value.\n",
      "\n",
      "> Each value in the matrix is multiplied by the scalar value.\n"
     ]
    },
    {
     "cell_type": "markdown",
     "metadata": {},
     "source": [
      "$$\\begin{bmatrix}1 & 3 & 9 & 2\\end{bmatrix} * 3 =\n",
      "\\begin{bmatrix}3 & 9 & 27 & 6\\end{bmatrix} $$\n"
     ]
    },
    {
     "cell_type": "markdown",
     "metadata": {},
     "source": [
      "$$\\begin{bmatrix}8 & 72 & 3 & 1\\end{bmatrix} * 2 = \\ ? $$\n"
     ]
    },
    {
     "cell_type": "markdown",
     "metadata": {},
     "source": [
      "**Rule 3!**\n",
      "\n",
      "Matrices and vectors can be multiplied together given that the matrix columns are as wide as the vector is long. \n",
      "\n",
      "> The result will always be a vector."
     ]
    },
    {
     "cell_type": "markdown",
     "metadata": {},
     "source": [
      "$$\\begin{bmatrix}1 & 3 & 9 & 2\\\\2 & 4 & 6 & 8\\end{bmatrix} * \\begin{bmatrix}2 \\\\ 3 \\\\ 6 \\\\ 5  \\end{bmatrix} = \\begin{matrix} 2 + 9 + 54 + 10 \\\\ 4 + 12 + 36 + 40 \\end{matrix} = \\begin{bmatrix} 75 \\\\ 92 \\end{bmatrix}$$"
     ]
    },
    {
     "cell_type": "markdown",
     "metadata": {},
     "source": [
      "**Rule 4!**\n",
      "\n",
      "Matrices can be multiplied together using the same rules that we have from matrix-vector multiplication.\n",
      "\n",
      "> The result will always be a matrix."
     ]
    },
    {
     "cell_type": "markdown",
     "metadata": {},
     "source": [
      "$$\\begin{bmatrix}1 & 3 & 9 & 2\\\\2 & 4 & 6 & 8\\end{bmatrix} * \\begin{bmatrix}2 & 1 \\\\ 3 & 2 \\\\ 6 & 0 \\\\ 5 & 4 \\end{bmatrix} = \\begin{matrix} 2 + 9 + 44 + 10 \\\\ 4 + 12 + 36 + 40 \\\\ 1 + 6 + 0 + 8 \\\\ 2 + 8 + 0 + 36\\end{matrix} = \\begin{bmatrix} 75 & 15 \\\\ 92 & 40 \\end{bmatrix}$$\n"
     ]
    },
    {
     "cell_type": "heading",
     "level": 3,
     "metadata": {},
     "source": [
      "That Was Fast... Why Does This Matter?"
     ]
    },
    {
     "cell_type": "markdown",
     "metadata": {},
     "source": [
      "Matrices represent the multiple dimensions in our data! If we had a vector that suggested how important each dimension of our data was, we could use that to find our best **linear model**."
     ]
    },
    {
     "cell_type": "markdown",
     "metadata": {},
     "source": [
      "We will see matrices quite often in **all** of our data, so pay careful attention to how data is structured and how different algorithms interact with them."
     ]
    },
    {
     "cell_type": "markdown",
     "metadata": {},
     "source": [
      "![break](assets/code.png)"
     ]
    },
    {
     "cell_type": "heading",
     "level": 2,
     "metadata": {},
     "source": [
      "Python Control Flow"
     ]
    },
    {
     "cell_type": "heading",
     "level": 3,
     "metadata": {},
     "source": [
      "Control Flow"
     ]
    },
    {
     "cell_type": "markdown",
     "metadata": {},
     "source": [
      "Python has a number of control flow tools that will be familiar from other languages. \n",
      "\n",
      "> The first is the if-else statement, whose compound syntax looks like this:"
     ]
    },
    {
     "cell_type": "code",
     "collapsed": false,
     "input": [
      "x, y = False, True"
     ],
     "language": "python",
     "metadata": {},
     "outputs": [],
     "prompt_number": 65
    },
    {
     "cell_type": "code",
     "collapsed": false,
     "input": [
      "if x:\n",
      "    print 'apollo'\n",
      "elif y:\n",
      "    print 'starbuck'\n",
      "else:\n",
      "    print 'adama'"
     ],
     "language": "python",
     "metadata": {},
     "outputs": [
      {
       "output_type": "stream",
       "stream": "stdout",
       "text": [
        "starbuck\n"
       ]
      }
     ],
     "prompt_number": 66
    },
    {
     "cell_type": "markdown",
     "metadata": {},
     "source": [
      "Next is the while loop. \n",
      "\n",
      "> This executes while a given condition evaluates to True.\n"
     ]
    },
    {
     "cell_type": "code",
     "collapsed": false,
     "input": [
      "x = 0"
     ],
     "language": "python",
     "metadata": {},
     "outputs": [],
     "prompt_number": 9
    },
    {
     "cell_type": "code",
     "collapsed": false,
     "input": [
      "while True:\n",
      "    print 'Galactica'\n",
      "    x += 1\n",
      "    if x >=3:\n",
      "        break"
     ],
     "language": "python",
     "metadata": {},
     "outputs": [
      {
       "output_type": "stream",
       "stream": "stdout",
       "text": [
        "Galactica\n",
        "Galactica\n",
        "Galactica\n"
       ]
      }
     ],
     "prompt_number": 39
    },
    {
     "cell_type": "markdown",
     "metadata": {},
     "source": [
      "Another familiar (and useful) construct is the for loop.\n",
      "\n",
      "> This executes a block of code for a range of values."
     ]
    },
    {
     "cell_type": "code",
     "collapsed": false,
     "input": [
      "for k in range(4):\n",
      "    print k**2"
     ],
     "language": "python",
     "metadata": {},
     "outputs": [
      {
       "output_type": "stream",
       "stream": "stdout",
       "text": [
        "0\n",
        "1\n",
        "4\n",
        "9\n"
       ]
      }
     ],
     "prompt_number": 12
    },
    {
     "cell_type": "markdown",
     "metadata": {},
     "source": [
      "The object that a for loop iterates over is called\n",
      "(appropriately) an iterable."
     ]
    },
    {
     "cell_type": "markdown",
     "metadata": {},
     "source": [
      "A useful but possibly unfamiliar construct is the try-\n",
      "except block:"
     ]
    },
    {
     "cell_type": "code",
     "collapsed": false,
     "input": [
      "try:\n",
      "    print undef\n",
      "except:\n",
      "    print 'nice try, mr undefined!'\n",
      "        "
     ],
     "language": "python",
     "metadata": {},
     "outputs": [
      {
       "output_type": "stream",
       "stream": "stdout",
       "text": [
        "nice try, mr undefined!\n"
       ]
      }
     ],
     "prompt_number": 14
    },
    {
     "cell_type": "markdown",
     "metadata": {},
     "source": [
      "This is useful for catching and dealing with errors, also called exception handling."
     ]
    },
    {
     "cell_type": "heading",
     "level": 3,
     "metadata": {},
     "source": [
      "Functions"
     ]
    },
    {
     "cell_type": "markdown",
     "metadata": {},
     "source": [
      "Python allows you to define custom functions as you\n",
      "would expect:\n"
     ]
    },
    {
     "cell_type": "code",
     "collapsed": false,
     "input": [
      "def x_minus_3(x):\n",
      "    return x -3"
     ],
     "language": "python",
     "metadata": {},
     "outputs": [],
     "prompt_number": 18
    },
    {
     "cell_type": "code",
     "collapsed": false,
     "input": [
      "x_minus_3(12)"
     ],
     "language": "python",
     "metadata": {},
     "outputs": [
      {
       "metadata": {},
       "output_type": "pyout",
       "prompt_number": 19,
       "text": [
        "9"
       ]
      }
     ],
     "prompt_number": 19
    },
    {
     "cell_type": "markdown",
     "metadata": {},
     "source": [
      "Functions can optionally return a value with a return statement (as this example does)."
     ]
    },
    {
     "cell_type": "markdown",
     "metadata": {},
     "source": [
      "Functions can take a number of arguments as inputs,\n",
      "and these arguments can be specified in two ways:\n"
     ]
    },
    {
     "cell_type": "heading",
     "level": 4,
     "metadata": {},
     "source": [
      "As positional arguments"
     ]
    },
    {
     "cell_type": "code",
     "collapsed": false,
     "input": [
      "def f(x,y):\n",
      "    return x - y"
     ],
     "language": "python",
     "metadata": {},
     "outputs": [],
     "prompt_number": 21
    },
    {
     "cell_type": "code",
     "collapsed": false,
     "input": [
      "f(4,2)"
     ],
     "language": "python",
     "metadata": {},
     "outputs": [
      {
       "metadata": {},
       "output_type": "pyout",
       "prompt_number": 22,
       "text": [
        "2"
       ]
      }
     ],
     "prompt_number": 22
    },
    {
     "cell_type": "code",
     "collapsed": false,
     "input": [
      "f(2,4)"
     ],
     "language": "python",
     "metadata": {},
     "outputs": [
      {
       "metadata": {},
       "output_type": "pyout",
       "prompt_number": 23,
       "text": [
        "-2"
       ]
      }
     ],
     "prompt_number": 23
    },
    {
     "cell_type": "heading",
     "level": 4,
     "metadata": {},
     "source": [
      "Or as keyword arguments"
     ]
    },
    {
     "cell_type": "code",
     "collapsed": false,
     "input": [
      "def g(arg1=1, arg2=1):\n",
      "    return arg1 / float(arg2)"
     ],
     "language": "python",
     "metadata": {},
     "outputs": [],
     "prompt_number": 40
    },
    {
     "cell_type": "code",
     "collapsed": false,
     "input": [
      "g(arg1=10, arg2=5)"
     ],
     "language": "python",
     "metadata": {},
     "outputs": [
      {
       "metadata": {},
       "output_type": "pyout",
       "prompt_number": 25,
       "text": [
        "2.0"
       ]
      }
     ],
     "prompt_number": 25
    },
    {
     "cell_type": "code",
     "collapsed": false,
     "input": [
      "g(arg2=100, arg1=10)"
     ],
     "language": "python",
     "metadata": {},
     "outputs": [
      {
       "metadata": {},
       "output_type": "pyout",
       "prompt_number": 27,
       "text": [
        "0.1"
       ]
      }
     ],
     "prompt_number": 27
    },
    {
     "cell_type": "markdown",
     "metadata": {},
     "source": [
      "![break](assets/code.png)"
     ]
    },
    {
     "cell_type": "heading",
     "level": 2,
     "metadata": {},
     "source": [
      "Lab: Matrix Addition In Python"
     ]
    },
    {
     "cell_type": "markdown",
     "metadata": {},
     "source": [
      "* Build some basic linear algebra functions\n",
      "* Improve comfort with flow patterns\n",
      "* Explore list comprehensions"
     ]
    },
    {
     "cell_type": "heading",
     "level": 3,
     "metadata": {},
     "source": [
      "Practice: Linear Algebra"
     ]
    },
    {
     "cell_type": "markdown",
     "metadata": {},
     "source": [
      "Primarily let's focus on some of the concrete components we talked about in class"
     ]
    },
    {
     "cell_type": "heading",
     "level": 4,
     "metadata": {},
     "source": [
      "Matrices and Vectors"
     ]
    },
    {
     "cell_type": "markdown",
     "metadata": {},
     "source": [
      "For the most part, we can consider using lists to create matrices and vectors (especially given that a Python list is, essentially, a vector)"
     ]
    },
    {
     "cell_type": "code",
     "collapsed": false,
     "input": [
      "vector = [1, 2, 3]\n",
      "matrix = [ [1, 2, 3, 4], \n",
      "           [5, 6, 7, 8],\n",
      "           [9, 0, 1, 2] ]\n",
      "\n",
      "print matrix"
     ],
     "language": "python",
     "metadata": {},
     "outputs": [
      {
       "output_type": "stream",
       "stream": "stdout",
       "text": [
        "[[1, 2, 3, 4], [5, 6, 7, 8], [9, 0, 1, 2]]\n"
       ]
      }
     ],
     "prompt_number": 49
    },
    {
     "cell_type": "markdown",
     "metadata": {},
     "source": [
      "We'll learn more about `numpy` next week, but numpy makes it incredibly easy to auto generate both of these!"
     ]
    },
    {
     "cell_type": "code",
     "collapsed": false,
     "input": [
      "import numpy as np\n",
      "npMatrix = np.matrix('1 2 3; 4 5 6; 7 8 9')\n",
      "\n",
      "print npMatrix"
     ],
     "language": "python",
     "metadata": {},
     "outputs": [
      {
       "output_type": "stream",
       "stream": "stdout",
       "text": [
        "[[1 2 3]\n",
        " [4 5 6]\n",
        " [7 8 9]]\n"
       ]
      }
     ],
     "prompt_number": 50
    },
    {
     "cell_type": "heading",
     "level": 4,
     "metadata": {},
     "source": [
      "Math"
     ]
    },
    {
     "cell_type": "code",
     "collapsed": false,
     "input": [
      "vector * 3"
     ],
     "language": "python",
     "metadata": {},
     "outputs": [
      {
       "metadata": {},
       "output_type": "pyout",
       "prompt_number": 51,
       "text": [
        "[1, 2, 3, 1, 2, 3, 1, 2, 3]"
       ]
      }
     ],
     "prompt_number": 51
    },
    {
     "cell_type": "markdown",
     "metadata": {},
     "source": [
      "Note that \"common sense\" here won't work: we're looking for a way to multiply each value within a vector by a value, not to repeat the vector 3 times. Here, we can use _[list comprehensions](http://www.secnetix.de/olli/Python/list_comprehensions.hawk)_ instead:\n"
     ]
    },
    {
     "cell_type": "code",
     "collapsed": false,
     "input": [
      "[x*3 for x in vector]"
     ],
     "language": "python",
     "metadata": {},
     "outputs": [
      {
       "metadata": {},
       "output_type": "pyout",
       "prompt_number": 53,
       "text": [
        "[3, 6, 9]"
       ]
      }
     ],
     "prompt_number": 53
    },
    {
     "cell_type": "markdown",
     "metadata": {},
     "source": [
      "And easier, we can write this as a function."
     ]
    },
    {
     "cell_type": "code",
     "collapsed": false,
     "input": [
      "def vectorMultiply(vector, value):\n",
      "\treturn [x*value for x in vector]\n",
      "\n",
      "vectorMultiply(vector, 3)"
     ],
     "language": "python",
     "metadata": {},
     "outputs": [
      {
       "metadata": {},
       "output_type": "pyout",
       "prompt_number": 66,
       "text": [
        "[3, 6, 9]"
       ]
      }
     ],
     "prompt_number": 66
    },
    {
     "cell_type": "markdown",
     "metadata": {},
     "source": [
      "(Granted, we could extend the list class\u2026 but let's not and say we did)\n",
      "\n",
      "Can also use list comprehensions to transpose a matrix, which should turn the matrix, essentially, \"90 degrees.\"\n"
     ]
    },
    {
     "cell_type": "code",
     "collapsed": false,
     "input": [
      "def matrixTranspose(matrix):\n",
      "    \"\"\"\n",
      "    Matrix Transpose function with interspersed print statements\n",
      "    for explanatory purposes. We'll disect the following list comprehension :\n",
      "    \n",
      "    [ [row[n] for row in matrix] for n in range(len(matrix[0]))]\n",
      "    \n",
      "    \"\"\"\n",
      "    \n",
      "#   Let's inspect which  matrix was provided as an argument? : \n",
      "#\n",
      "#    [[1 2 3 4]\n",
      "#     [5 6 7 8]\n",
      "#     [9 0 1 2]]\n",
      "#\n",
      "    print np.matrix(matrix)\n",
      "    \n",
      "#   Now, let's disect the list comprehension which will transpose this\n",
      "#   matrix. Start from the back when trying to understand what a list \n",
      "#   comprehension does. So we see that it tries the access the first \n",
      "#   row in the Matrix : [1 2 3 4]\n",
      "    print matrix[0]\n",
      "    \n",
      "#   It does this to determine the number of columns the matrix has, as\n",
      "#   each row will have an equal number of elements. \n",
      "    print len(matrix[0])\n",
      "\n",
      "#   The number of columns is them used to create a 'range list' to \n",
      "#   iterate over : [0, 1, 2, 3]\n",
      "    print range(len(matrix[0]))\n",
      "\n",
      "#   So in this particular case the list comprehension is simply:\n",
      "#   [ [row[n] for row in matrix] for n in [0,1,2,3]]\n",
      "\n",
      "#   The outer loop (the outer list comprehension) 'locks' the column\n",
      "#   number for each full cycle of inner loop (inner list comprehension).\n",
      "\n",
      "#   So in first instance 'n' is fixed at 0, and so when it executes the\n",
      "#   inner loop :\n",
      "\n",
      "#   [row[n] for row in matrix]\n",
      "\n",
      "#  it goes through each row in the matrix and takes the nth element from the \n",
      "#  row. In the example, in the first cycle 'n' would be 0, and so the elements\n",
      "#  taken from our examplary matrix would be [1,5,9]. These numbers are stored \n",
      "#  inside of a list (that's what list comprehensions do), and it will ask for \n",
      "#  the next value of 'n'. Now that 'n' is fixed as 1, it will go through a whole \n",
      "#  cycle again. Now it takes [2,6,0] from out examplary matrix. This continues \n",
      "#  for as long as there are more rows in the matrix.\n",
      "\n",
      "    return [ [row[n] for row in matrix] for n in range(len(matrix[0]))]\n",
      "\n",
      "#  Ultimately the function returns the transposed matrix : \n",
      "#\n",
      "#   [[1 5 9]\n",
      "#    [2 6 0]\n",
      "#    [3 7 1]\n",
      "#    [4 8 2]]\n",
      "#\n",
      "print np.matrix(matrixTranspose(matrix)) # Formatted as a matrix"
     ],
     "language": "python",
     "metadata": {},
     "outputs": [
      {
       "output_type": "stream",
       "stream": "stdout",
       "text": [
        "[[1 2 3 4]\n",
        " [5 6 7 8]\n",
        " [9 0 1 2]]\n",
        "[1, 2, 3, 4]\n",
        "4\n",
        "[0, 1, 2, 3]\n",
        "[[1 5 9]\n",
        " [2 6 0]\n",
        " [3 7 1]\n",
        " [4 8 2]]\n"
       ]
      }
     ],
     "prompt_number": 59
    },
    {
     "cell_type": "heading",
     "level": 3,
     "metadata": {},
     "source": [
      "Classwork"
     ]
    },
    {
     "cell_type": "markdown",
     "metadata": {},
     "source": [
      "1. Write two more functions: `vectorMatrix multiplication` and `matrix multiplication`. No numpy/scipy! Do this with pure python. Use triple quotes/doc quotes to explain the properties expected for a matrix in these functions:\n"
     ]
    },
    {
     "cell_type": "code",
     "collapsed": false,
     "input": [
      "def vectorMatrixMultiplication(matrix,vector):\n",
      "    \"\"\"\n",
      "    Explain exactly what is needed\n",
      "    \"\"\"\n",
      "    return answer"
     ],
     "language": "python",
     "metadata": {},
     "outputs": [
      {
       "metadata": {},
       "output_type": "pyout",
       "prompt_number": 73,
       "text": [
        "'\\nDocumentation in Python\\n'"
       ]
      }
     ],
     "prompt_number": 73
    },
    {
     "cell_type": "markdown",
     "metadata": {},
     "source": [
      "\n",
      "Submit this code to Github. Check your answers using the logic we went over from lecture. \n"
     ]
    },
    {
     "cell_type": "markdown",
     "metadata": {},
     "source": [
      "**PROGRAMMER GOAL**\n",
      "\n",
      "Write test cases and use try/catch in your functions for when matrices are not defined correctly (ie: [ [1,2,3], [4,5] ] is not a matrix.) Or, create a matrix class that also follows these rules.\n"
     ]
    },
    {
     "cell_type": "markdown",
     "metadata": {},
     "source": [
      "2. Write a function that creates an identity matrix. An identity matrix is a matrix where value = 1 if the row and column index are the same, and 0 otherwise. It should build any size identity matrix you want.\n",
      "\n",
      "Example: iMatrix(4) should be:"
     ]
    },
    {
     "cell_type": "code",
     "collapsed": false,
     "input": [
      "[ [1, 0, 0, 0],\n",
      "[0, 1, 0, 0],\n",
      "[0, 0, 1, 0],\n",
      "[0, 0, 0, 1] ]"
     ],
     "language": "python",
     "metadata": {},
     "outputs": [
      {
       "metadata": {},
       "output_type": "pyout",
       "prompt_number": 75,
       "text": [
        "[[1, 0, 0, 0], [0, 1, 0, 0], [0, 0, 1, 0], [0, 0, 0, 1]]"
       ]
      }
     ],
     "prompt_number": 75
    },
    {
     "cell_type": "markdown",
     "metadata": {},
     "source": [
      "**Commit your scripts to GitHub under /code/student/lesson02/.**"
     ]
    },
    {
     "cell_type": "heading",
     "level": 2,
     "metadata": {},
     "source": [
      "Homework"
     ]
    },
    {
     "cell_type": "markdown",
     "metadata": {},
     "source": [
      "Let's revise the original script we wrote on Class01 to now return a new csv file that summarizes the data in such a way:\n",
      "\n",
      "```\n",
      "# HEADERS:\n",
      "\n",
      "\"age\", \"gender\", \"signed_in\", \"avg_click\", \"avg_impressions\", \"max_click\", \"max_impressions\"\n",
      "```\n",
      "\n",
      "This means that we are now aggregating data by age, gender, and signed_in to get these new data features: avg_click, avg_impressions, max_click, max_impressions.\n",
      "Let's include Age = 0 (null age) as a possible groupable.\n",
      "\n",
      "Commit your scripts to GitHub under /code/student/lesson02/"
     ]
    },
    {
     "cell_type": "markdown",
     "metadata": {},
     "source": [
      "![break](assets/resources.png)"
     ]
    },
    {
     "cell_type": "heading",
     "level": 2,
     "metadata": {},
     "source": [
      "Resources"
     ]
    },
    {
     "cell_type": "markdown",
     "metadata": {},
     "source": [
      "#### Mathematics\n",
      "[Great review on Linear Algebra](http://cs229.stanford.edu/section/cs229-linalg.pdf)\n",
      "\n",
      "#### Machine Learning\n",
      "[Early learning on its application to linear models](http://dept.stat.lsa.umich.edu/~kshedden/Courses/Stat401/Notes/401-multreg.pdf)\n",
      "\n",
      "#### Code\n",
      "[A Matrix Class implemented in pure python](http://code.activestate.com/recipes/189971-basic-linear-algebra-matrix/)\n"
     ]
    }
   ],
   "metadata": {}
  }
 ]
}