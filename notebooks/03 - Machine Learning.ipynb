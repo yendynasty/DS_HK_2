{
 "metadata": {
  "name": "",
  "signature": "sha256:2bcc96c45db283180a4cc01ec49e12834667caa3e4dc2bc4b44918468f332d73"
 },
 "nbformat": 3,
 "nbformat_minor": 0,
 "worksheets": [
  {
   "cells": [
    {
     "cell_type": "code",
     "collapsed": false,
     "input": [
      "%%javascript\n",
      "function is_local(){\n",
      "  return (document.location.hostname == \"localhost\" || document.location.hostname == '127.0.0.1')\n",
      "}\n",
      "var url = is_local() ? \"http://localhost:8000/theme/custom.js\" : \"http://odhk.github.io/hyrule_theme/custom.js\"\n",
      "$.getScript(url)"
     ],
     "language": "python",
     "metadata": {},
     "outputs": [
      {
       "javascript": [
        "function is_local(){\n",
        "  return (document.location.hostname == \"localhost\" || document.location.hostname == '127.0.0.1')\n",
        "}\n",
        "var url = is_local() ? \"http://localhost:8000/theme/custom.js\" : \"http://odhk.github.io/hyrule_theme/custom.js\"\n",
        "$.getScript(url)"
       ],
       "metadata": {},
       "output_type": "display_data",
       "text": [
        "<IPython.core.display.Javascript at 0x1ce2450>"
       ]
      }
     ],
     "prompt_number": 1
    },
    {
     "cell_type": "markdown",
     "metadata": {},
     "source": [
      "# Machine Learning"
     ]
    },
    {
     "cell_type": "markdown",
     "metadata": {},
     "source": [
      "> The illiterate of the 21st century will not be those who cannot read and write, but those who cannot learn, unlearn, and relearn.\n",
      "\n",
      "<footer>~ Alvin Toffler</footer>"
     ]
    },
    {
     "cell_type": "markdown",
     "metadata": {},
     "source": [
      "![break](assets/agenda.png)"
     ]
    },
    {
     "cell_type": "markdown",
     "metadata": {},
     "source": [
      "1. [What Is Machine Learning?](#What-is-Machine-Learning?)\n",
      "1. [Machine Learning Problems](#Machine-Learning-Problems)\n",
      "1. [Python Libraries](#Python-Libraries)\n",
      "\n",
      "**Labs**:\n",
      "1. [Numpy, Scipy, And Pandas](#)"
     ]
    },
    {
     "cell_type": "markdown",
     "metadata": {},
     "source": [
      "![break](assets/theory.png)"
     ]
    },
    {
     "cell_type": "heading",
     "level": 2,
     "metadata": {},
     "source": [
      "What _is_ Machine Learning?"
     ]
    },
    {
     "cell_type": "markdown",
     "metadata": {},
     "source": [
      "> \u201cMachine learning, a branch of artificial intelligence, is about the construction and study of\n",
      "systems that can learn from data.\u201d\n",
      "\n",
      "<footer>~ Wikipedia</footer>"
     ]
    },
    {
     "cell_type": "markdown",
     "metadata": {},
     "source": [
      "\u201cThe core of machine learning deals with representation and generalization...\u201d\n",
      "* representation \u2013 extracting structure from data\n",
      "* generalization \u2013 making predictions from data"
     ]
    },
    {
     "cell_type": "heading",
     "level": 4,
     "metadata": {},
     "source": [
      "Remember This? "
     ]
    },
    {
     "cell_type": "markdown",
     "metadata": {},
     "source": [
      "![](assets/DS_venn_diagram.png)\n",
      "\n",
      "### How do you get from 'Machine Learning' to 'Data Science'"
     ]
    },
    {
     "cell_type": "markdown",
     "metadata": {},
     "source": [
      "![reference](assets/rubiks.png)\n",
      "### Problem Solving!!!\n",
      "\n",
      "Implementing solutions to ML problems is the focus of this course."
     ]
    },
    {
     "cell_type": "heading",
     "level": 2,
     "metadata": {},
     "source": [
      "Machine Learning Problems"
     ]
    },
    {
     "cell_type": "heading",
     "level": 3,
     "metadata": {},
     "source": [
      "Types of Learning Problems"
     ]
    },
    {
     "cell_type": "markdown",
     "metadata": {},
     "source": [
      "|Type   \t|Use   \t|Method |\n",
      "|:-:\t|:-:\t|:-:\t|\n",
      "|Supervised   \t|Making Predictions   \t|Generalisation |\n",
      "|Unsupervised   \t|Extracting Structure   \t|Representation |"
     ]
    },
    {
     "cell_type": "heading",
     "level": 3,
     "metadata": {},
     "source": [
      "Types of Data"
     ]
    },
    {
     "cell_type": "markdown",
     "metadata": {},
     "source": [
      "|continuous |categorical |\n",
      "|:-:\t|:-:\t|\n",
      "|quantitative |qualitative   \t|\n"
     ]
    },
    {
     "cell_type": "markdown",
     "metadata": {},
     "source": [
      "The space where data live is called the feature space. Each point in this space is called a record."
     ]
    },
    {
     "cell_type": "heading",
     "level": 3,
     "metadata": {},
     "source": [
      "Types of ML Solutions"
     ]
    },
    {
     "cell_type": "markdown",
     "metadata": {},
     "source": [
      "|   \t|continuous\t|categorical   \t|\n",
      "|:-:\t|:-:\t|:-:\t|\n",
      "|**supervised**   \t|regression   \t|classification   \t|\n",
      "|**unsupervised**   \t|dimension reduction   \t|clustering   \t|"
     ]
    },
    {
     "cell_type": "markdown",
     "metadata": {},
     "source": [
      "We will implement solutions using models and algorithms. Each will fall into one\n",
      "of these four buckets."
     ]
    },
    {
     "cell_type": "heading",
     "level": 3,
     "metadata": {},
     "source": [
      "What is the goal of Machine Learning?"
     ]
    },
    {
     "cell_type": "markdown",
     "metadata": {},
     "source": [
      "The goal is determined by the type of problem."
     ]
    },
    {
     "cell_type": "markdown",
     "metadata": {},
     "source": [
      "|Type   \t|Use   \t|Method |\n",
      "|:-:\t|:-:\t|:-:\t|\n",
      "|Supervised   \t|Making Predictions   \t|Generalisation |\n",
      "|Unsupervised   \t|Extracting Structure   \t|Representation |\n"
     ]
    },
    {
     "cell_type": "heading",
     "level": 3,
     "metadata": {},
     "source": [
      "How do you determine the right approach?"
     ]
    },
    {
     "cell_type": "markdown",
     "metadata": {},
     "source": [
      "The right approach is determined by the desired solution."
     ]
    },
    {
     "cell_type": "markdown",
     "metadata": {},
     "source": [
      "|   \t|continuous\t|categorical   \t|\n",
      "|:-:\t|:-:\t|:-:\t|\n",
      "|**supervised**   \t|regression   \t|classification   \t|\n",
      "|**unsupervised**   \t|dimension reduction   \t|clustering   \t|"
     ]
    },
    {
     "cell_type": "markdown",
     "metadata": {},
     "source": [
      "But what approaches are available to you will always be dependent on the type and quality of the data you have!"
     ]
    },
    {
     "cell_type": "heading",
     "level": 3,
     "metadata": {},
     "source": [
      "What do you do with your results?"
     ]
    },
    {
     "cell_type": "markdown",
     "metadata": {},
     "source": [
      "Interpret them and react accordingly."
     ]
    },
    {
     "cell_type": "markdown",
     "metadata": {},
     "source": [
      "![](assets/benfry-workflow-recursion.png)"
     ]
    },
    {
     "cell_type": "markdown",
     "metadata": {},
     "source": [
      "This also relies on your problem solving skills!"
     ]
    },
    {
     "cell_type": "markdown",
     "metadata": {},
     "source": [
      "![break](assets/code.png)"
     ]
    },
    {
     "cell_type": "heading",
     "level": 2,
     "metadata": {},
     "source": [
      "Python Libraries"
     ]
    },
    {
     "cell_type": "heading",
     "level": 3,
     "metadata": {},
     "source": [
      "import"
     ]
    },
    {
     "cell_type": "markdown",
     "metadata": {},
     "source": [
      "Python libraries are imported into scripts using the\n",
      "\n",
      "> **import** statement.\n",
      "\n",
      "The import statement can be used in three ways:"
     ]
    },
    {
     "cell_type": "code",
     "collapsed": false,
     "input": [
      "import os\n",
      "\n",
      "from operator import itemgetter\n",
      "\n",
      "from sys import *"
     ],
     "language": "python",
     "metadata": {},
     "outputs": [],
     "prompt_number": 2
    },
    {
     "cell_type": "markdown",
     "metadata": {},
     "source": [
      "The differences have to do with how each import statement interacts with the local namespace."
     ]
    },
    {
     "cell_type": "heading",
     "level": 3,
     "metadata": {},
     "source": [
      "Namespaces"
     ]
    },
    {
     "cell_type": "markdown",
     "metadata": {},
     "source": [
      "Python has three types of namespaces:\n",
      "    \n",
      "> **local**, **global**, and **built-in**"
     ]
    },
    {
     "cell_type": "markdown",
     "metadata": {},
     "source": [
      "For our purposes, namespaces are important because they control how imported code can be accessed:\n"
     ]
    },
    {
     "cell_type": "code",
     "collapsed": false,
     "input": [
      "import os\n",
      "os.path.expanduser('~')"
     ],
     "language": "python",
     "metadata": {},
     "outputs": [
      {
       "metadata": {},
       "output_type": "pyout",
       "prompt_number": 3,
       "text": [
        "'/home/io'"
       ]
      }
     ],
     "prompt_number": 3
    },
    {
     "cell_type": "code",
     "collapsed": false,
     "input": [
      "path.expanduser('~')"
     ],
     "language": "python",
     "metadata": {},
     "outputs": [
      {
       "ename": "AttributeError",
       "evalue": "'list' object has no attribute 'expanduser'",
       "output_type": "pyerr",
       "traceback": [
        "\u001b[1;31m---------------------------------------------------------------------------\u001b[0m\n\u001b[1;31mAttributeError\u001b[0m                            Traceback (most recent call last)",
        "\u001b[1;32m<ipython-input-4-f9640d7ba8fc>\u001b[0m in \u001b[0;36m<module>\u001b[1;34m()\u001b[0m\n\u001b[1;32m----> 1\u001b[1;33m \u001b[0mpath\u001b[0m\u001b[1;33m.\u001b[0m\u001b[0mexpanduser\u001b[0m\u001b[1;33m(\u001b[0m\u001b[1;34m'~'\u001b[0m\u001b[1;33m)\u001b[0m\u001b[1;33m\u001b[0m\u001b[0m\n\u001b[0m",
        "\u001b[1;31mAttributeError\u001b[0m: 'list' object has no attribute 'expanduser'"
       ]
      }
     ],
     "prompt_number": 4
    },
    {
     "cell_type": "heading",
     "level": 3,
     "metadata": {},
     "source": [
      "NumPy"
     ]
    },
    {
     "cell_type": "markdown",
     "metadata": {},
     "source": [
      "We\u2019ll be using four external libraries that help us structure our data accordingly.\n",
      "> Numpy offers the ability to create arrays (matrices and vectors), as well as some linear algebra functions!"
     ]
    },
    {
     "cell_type": "code",
     "collapsed": false,
     "input": [
      "from numpy import *\n",
      "A = matrix('1 2; 3 4;5 6')\n",
      "A"
     ],
     "language": "python",
     "metadata": {},
     "outputs": [
      {
       "metadata": {},
       "output_type": "pyout",
       "prompt_number": 5,
       "text": [
        "matrix([[1, 2],\n",
        "        [3, 4],\n",
        "        [5, 6]])"
       ]
      }
     ],
     "prompt_number": 5
    },
    {
     "cell_type": "code",
     "collapsed": false,
     "input": [
      "A.T"
     ],
     "language": "python",
     "metadata": {},
     "outputs": [
      {
       "metadata": {},
       "output_type": "pyout",
       "prompt_number": 6,
       "text": [
        "matrix([[1, 3, 5],\n",
        "        [2, 4, 6]])"
       ]
      }
     ],
     "prompt_number": 6
    },
    {
     "cell_type": "heading",
     "level": 3,
     "metadata": {},
     "source": [
      "SciPy"
     ]
    },
    {
     "cell_type": "markdown",
     "metadata": {},
     "source": [
      "Scipy extends numpy by offering additional linear algebra functions, signal processing, Fourier transforms, and other statistics functions"
     ]
    },
    {
     "cell_type": "code",
     "collapsed": false,
     "input": [
      "from scipy import *\n",
      "A = array([[1,2],[3,4]])\n",
      "A"
     ],
     "language": "python",
     "metadata": {},
     "outputs": [
      {
       "metadata": {},
       "output_type": "pyout",
       "prompt_number": 7,
       "text": [
        "array([[1, 2],\n",
        "       [3, 4]])"
       ]
      }
     ],
     "prompt_number": 7
    },
    {
     "cell_type": "markdown",
     "metadata": {},
     "source": [
      "Compute the inverse of a matrix."
     ]
    },
    {
     "cell_type": "code",
     "collapsed": false,
     "input": [
      "linalg.inv(A)"
     ],
     "language": "python",
     "metadata": {},
     "outputs": [
      {
       "metadata": {},
       "output_type": "pyout",
       "prompt_number": 8,
       "text": [
        "array([[-2. ,  1. ],\n",
        "       [ 1.5, -0.5]])"
       ]
      }
     ],
     "prompt_number": 8
    },
    {
     "cell_type": "markdown",
     "metadata": {},
     "source": [
      "A dot product of a matrix with its inverse results in a identity matrix."
     ]
    },
    {
     "cell_type": "code",
     "collapsed": false,
     "input": [
      "A.dot(linalg.inv(A))"
     ],
     "language": "python",
     "metadata": {},
     "outputs": [
      {
       "metadata": {},
       "output_type": "pyout",
       "prompt_number": 9,
       "text": [
        "array([[  1.00000000e+00,   0.00000000e+00],\n",
        "       [  8.88178420e-16,   1.00000000e+00]])"
       ]
      }
     ],
     "prompt_number": 9
    },
    {
     "cell_type": "heading",
     "level": 3,
     "metadata": {},
     "source": [
      "Pandas"
     ]
    },
    {
     "cell_type": "markdown",
     "metadata": {},
     "source": [
      "PANDAS (python data analysis) provides more rigid data structures more attune to other stats languages, like R or matlab.\n",
      "\n",
      "R users will find PANDAS to be familiar territory."
     ]
    },
    {
     "cell_type": "heading",
     "level": 3,
     "metadata": {},
     "source": [
      "SciKit-Learn"
     ]
    },
    {
     "cell_type": "markdown",
     "metadata": {},
     "source": [
      "Scikit-learn is a library which contains the majority of our machine learning algorithms. We will be primarily using scikit learn in class to experiment and learn various ML functionality.\n",
      "\n",
      "There are a lot of other libraries out there that enable you to do some incredibly great things. We definitely won\u2019t explore all of them here, but don\u2019t be afraid to use our best friend (Google) to help you find libraries that do things you want to get done.\n",
      "\n"
     ]
    },
    {
     "cell_type": "markdown",
     "metadata": {},
     "source": [
      "![break](assets/code.png)"
     ]
    },
    {
     "cell_type": "heading",
     "level": 2,
     "metadata": {},
     "source": [
      "Lab: Numpy, Scipy, And Pandas"
     ]
    },
    {
     "cell_type": "markdown",
     "metadata": {},
     "source": [
      "* Build our numpy and PANDAS repertoire: array, matrix, dataframes\n",
      "* Compare the work from last week with these libraries"
     ]
    },
    {
     "cell_type": "markdown",
     "metadata": {},
     "source": [
      "### Confirm our theory one more time!"
     ]
    },
    {
     "cell_type": "code",
     "collapsed": false,
     "input": [
      "from numpy import array, dot\n",
      "from numpy.linalg import inv\n",
      "\n",
      "X = array([[1, 1], [1, 2], [1, 3], [1, 4]])\n",
      "y = array([[1], [2], [3], [4]])"
     ],
     "language": "python",
     "metadata": {},
     "outputs": [],
     "prompt_number": 10
    },
    {
     "cell_type": "code",
     "collapsed": false,
     "input": [
      "n = inv(dot(X.T, X))\n",
      "n"
     ],
     "language": "python",
     "metadata": {},
     "outputs": [
      {
       "metadata": {},
       "output_type": "pyout",
       "prompt_number": 11,
       "text": [
        "array([[ 1.5, -0.5],\n",
        "       [-0.5,  0.2]])"
       ]
      }
     ],
     "prompt_number": 11
    },
    {
     "cell_type": "code",
     "collapsed": false,
     "input": [
      "k = dot(X.T, y)\n",
      "k"
     ],
     "language": "python",
     "metadata": {},
     "outputs": [
      {
       "metadata": {},
       "output_type": "pyout",
       "prompt_number": 12,
       "text": [
        "array([[10],\n",
        "       [30]])"
       ]
      }
     ],
     "prompt_number": 12
    },
    {
     "cell_type": "code",
     "collapsed": false,
     "input": [
      "coef_ = dot(n, k)\n",
      "coef_"
     ],
     "language": "python",
     "metadata": {},
     "outputs": [
      {
       "metadata": {},
       "output_type": "pyout",
       "prompt_number": 13,
       "text": [
        "array([[ 0.],\n",
        "       [ 1.]])"
       ]
      }
     ],
     "prompt_number": 13
    },
    {
     "cell_type": "markdown",
     "metadata": {},
     "source": [
      " And a nice short and sweet regression function with no accounting for error:"
     ]
    },
    {
     "cell_type": "code",
     "collapsed": false,
     "input": [
      "def regression(input, response):\n",
      "\treturn dot(inv(dot(input.T, input)), dot(input.T, response))"
     ],
     "language": "python",
     "metadata": {},
     "outputs": [],
     "prompt_number": 14
    },
    {
     "cell_type": "code",
     "collapsed": false,
     "input": [
      "regression(X,y)"
     ],
     "language": "python",
     "metadata": {},
     "outputs": [
      {
       "metadata": {},
       "output_type": "pyout",
       "prompt_number": 15,
       "text": [
        "array([[ 0.],\n",
        "       [ 1.]])"
       ]
      }
     ],
     "prompt_number": 15
    },
    {
     "cell_type": "heading",
     "level": 3,
     "metadata": {},
     "source": [
      "Practice: NumPy"
     ]
    },
    {
     "cell_type": "markdown",
     "metadata": {},
     "source": [
      "Last class we spent a huge portion of our lab time working on some basic linear algebra functions. Thankfully, NumPy and SciPy offer a lot of this already for us and more."
     ]
    },
    {
     "cell_type": "code",
     "collapsed": false,
     "input": [
      "from numpy import *\n",
      "\n",
      "arrayOne = arange(15).reshape(3, 5)\n",
      "arrayOne"
     ],
     "language": "python",
     "metadata": {},
     "outputs": [
      {
       "metadata": {},
       "output_type": "pyout",
       "prompt_number": 16,
       "text": [
        "array([[ 0,  1,  2,  3,  4],\n",
        "       [ 5,  6,  7,  8,  9],\n",
        "       [10, 11, 12, 13, 14]])"
       ]
      }
     ],
     "prompt_number": 16
    },
    {
     "cell_type": "code",
     "collapsed": false,
     "input": [
      "arrayTwo = arange(15).reshape(5, 3)\n",
      "arrayTwo"
     ],
     "language": "python",
     "metadata": {},
     "outputs": [
      {
       "metadata": {},
       "output_type": "pyout",
       "prompt_number": 17,
       "text": [
        "array([[ 0,  1,  2],\n",
        "       [ 3,  4,  5],\n",
        "       [ 6,  7,  8],\n",
        "       [ 9, 10, 11],\n",
        "       [12, 13, 14]])"
       ]
      }
     ],
     "prompt_number": 17
    },
    {
     "cell_type": "code",
     "collapsed": false,
     "input": [
      "vector = array([10, 15, 20])\n",
      "vector"
     ],
     "language": "python",
     "metadata": {},
     "outputs": [
      {
       "metadata": {},
       "output_type": "pyout",
       "prompt_number": 18,
       "text": [
        "array([10, 15, 20])"
       ]
      }
     ],
     "prompt_number": 18
    },
    {
     "cell_type": "markdown",
     "metadata": {},
     "source": [
      "numpy as a standard uses arrays, which can be of any n-dimensions, though numpy has a specific subclass of arrays called matrices."
     ]
    },
    {
     "cell_type": "code",
     "collapsed": false,
     "input": [
      "matrixOne = matrix('1 2 3; 4 5 6')\n",
      "matrixOne"
     ],
     "language": "python",
     "metadata": {},
     "outputs": [
      {
       "metadata": {},
       "output_type": "pyout",
       "prompt_number": 19,
       "text": [
        "matrix([[1, 2, 3],\n",
        "        [4, 5, 6]])"
       ]
      }
     ],
     "prompt_number": 19
    },
    {
     "cell_type": "code",
     "collapsed": false,
     "input": [
      "matrixTwo = matrix('1 2; 3 4; 5 6')\n",
      "matrixTwo"
     ],
     "language": "python",
     "metadata": {},
     "outputs": [
      {
       "metadata": {},
       "output_type": "pyout",
       "prompt_number": 20,
       "text": [
        "matrix([[1, 2],\n",
        "        [3, 4],\n",
        "        [5, 6]])"
       ]
      }
     ],
     "prompt_number": 20
    },
    {
     "cell_type": "markdown",
     "metadata": {},
     "source": [
      "Bare in mind that these are still two different structures, and therefore interact differently in Python. For example: which of these produces the answer we'd expect from last class? What does the other one actually do?"
     ]
    },
    {
     "cell_type": "code",
     "collapsed": false,
     "input": [
      "a1 = array([ [1, 2], [3, 4] ])\n",
      "a2 = array([ [1, 3], [2, 4] ])\n",
      "m1 = matrix('1 2; 3 4')\n",
      "m2 = matrix('1 3; 2 4')"
     ],
     "language": "python",
     "metadata": {},
     "outputs": [],
     "prompt_number": 21
    },
    {
     "cell_type": "code",
     "collapsed": false,
     "input": [
      "a1 * a2"
     ],
     "language": "python",
     "metadata": {},
     "outputs": [
      {
       "metadata": {},
       "output_type": "pyout",
       "prompt_number": 22,
       "text": [
        "array([[ 1,  6],\n",
        "       [ 6, 16]])"
       ]
      }
     ],
     "prompt_number": 22
    },
    {
     "cell_type": "code",
     "collapsed": false,
     "input": [
      "m1 * m2"
     ],
     "language": "python",
     "metadata": {},
     "outputs": [
      {
       "metadata": {},
       "output_type": "pyout",
       "prompt_number": 23,
       "text": [
        "matrix([[ 5, 11],\n",
        "        [11, 25]])"
       ]
      }
     ],
     "prompt_number": 23
    },
    {
     "cell_type": "markdown",
     "metadata": {},
     "source": [
      "Note that we can easily get around this issue using the _dot_ function:"
     ]
    },
    {
     "cell_type": "code",
     "collapsed": false,
     "input": [
      "dot(a1, a2)"
     ],
     "language": "python",
     "metadata": {},
     "outputs": [
      {
       "metadata": {},
       "output_type": "pyout",
       "prompt_number": 24,
       "text": [
        "array([[ 5, 11],\n",
        "       [11, 25]])"
       ]
      }
     ],
     "prompt_number": 24
    },
    {
     "cell_type": "code",
     "collapsed": false,
     "input": [
      "dot(m1, m2)"
     ],
     "language": "python",
     "metadata": {},
     "outputs": [
      {
       "metadata": {},
       "output_type": "pyout",
       "prompt_number": 25,
       "text": [
        "matrix([[ 5, 11],\n",
        "        [11, 25]])"
       ]
      }
     ],
     "prompt_number": 25
    },
    {
     "cell_type": "markdown",
     "metadata": {},
     "source": [
      "That said, here's some other common functions that we built last week that are likely much more efficient as their numpy functions:"
     ]
    },
    {
     "cell_type": "code",
     "collapsed": false,
     "input": [
      "# .T Transposes the array or matrix:\n",
      "a1.T"
     ],
     "language": "python",
     "metadata": {},
     "outputs": [
      {
       "metadata": {},
       "output_type": "pyout",
       "prompt_number": 26,
       "text": [
        "array([[1, 3],\n",
        "       [2, 4]])"
       ]
      }
     ],
     "prompt_number": 26
    },
    {
     "cell_type": "code",
     "collapsed": false,
     "input": [
      "# .I returns the matrix inverse:\n",
      "m1.I"
     ],
     "language": "python",
     "metadata": {},
     "outputs": [
      {
       "metadata": {},
       "output_type": "pyout",
       "prompt_number": 27,
       "text": [
        "matrix([[-2. ,  1. ],\n",
        "        [ 1.5, -0.5]])"
       ]
      }
     ],
     "prompt_number": 27
    },
    {
     "cell_type": "code",
     "collapsed": false,
     "input": [
      "# eye(value) creates an identity matrix:\n",
      "iFive = eye(5)\n",
      "iFive"
     ],
     "language": "python",
     "metadata": {},
     "outputs": [
      {
       "metadata": {},
       "output_type": "pyout",
       "prompt_number": 28,
       "text": [
        "array([[ 1.,  0.,  0.,  0.,  0.],\n",
        "       [ 0.,  1.,  0.,  0.,  0.],\n",
        "       [ 0.,  0.,  1.,  0.,  0.],\n",
        "       [ 0.,  0.,  0.,  1.,  0.],\n",
        "       [ 0.,  0.,  0.,  0.,  1.]])"
       ]
      }
     ],
     "prompt_number": 28
    },
    {
     "cell_type": "markdown",
     "metadata": {},
     "source": [
      "Keep track of when you are using n-dimensional arrays and when you are using matrices in numpy: this can cause a lot of headaches!"
     ]
    },
    {
     "cell_type": "markdown",
     "metadata": {},
     "source": [
      "### On your own"
     ]
    },
    {
     "cell_type": "markdown",
     "metadata": {},
     "source": [
      "Verify the work from last week by building the matrices you tested last week and comparing your functions to numpys. Those of you more experience with Python, feel free to check speed with `timeit`"
     ]
    },
    {
     "cell_type": "code",
     "collapsed": false,
     "input": [
      "import timeit as t\n",
      "t.timeit('dot(a1, a2)', setup=\"from __main__ import dot, a1, a2\", \n",
      "         number = 100000)"
     ],
     "language": "python",
     "metadata": {},
     "outputs": [
      {
       "metadata": {},
       "output_type": "pyout",
       "prompt_number": 29,
       "text": [
        "0.08331990242004395"
       ]
      }
     ],
     "prompt_number": 29
    },
    {
     "cell_type": "markdown",
     "metadata": {},
     "source": [
      "Numpy also has a lot of basic math functions built in which do not exist in python (but are common in stats languages). Feel free to go through these on your own:"
     ]
    },
    {
     "cell_type": "code",
     "collapsed": false,
     "input": [
      "exp(10) # e ^ value"
     ],
     "language": "python",
     "metadata": {},
     "outputs": [
      {
       "metadata": {},
       "output_type": "pyout",
       "prompt_number": 30,
       "text": [
        "22026.465794806718"
       ]
      }
     ],
     "prompt_number": 30
    },
    {
     "cell_type": "code",
     "collapsed": false,
     "input": [
      "log(10)"
     ],
     "language": "python",
     "metadata": {},
     "outputs": [
      {
       "metadata": {},
       "output_type": "pyout",
       "prompt_number": 31,
       "text": [
        "2.3025850929940459"
       ]
      }
     ],
     "prompt_number": 31
    },
    {
     "cell_type": "code",
     "collapsed": false,
     "input": [
      "sqrt(4)"
     ],
     "language": "python",
     "metadata": {},
     "outputs": [
      {
       "metadata": {},
       "output_type": "pyout",
       "prompt_number": 32,
       "text": [
        "2.0"
       ]
      }
     ],
     "prompt_number": 32
    },
    {
     "cell_type": "heading",
     "level": 3,
     "metadata": {},
     "source": [
      "Practice: PANDAS"
     ]
    },
    {
     "cell_type": "code",
     "collapsed": false,
     "input": [
      "import pandas as pd"
     ],
     "language": "python",
     "metadata": {},
     "outputs": [],
     "prompt_number": 33
    },
    {
     "cell_type": "code",
     "collapsed": false,
     "input": [
      "# Run the curl command if you don't have the data already \n",
      "!curl http://stat.columbia.edu/~rachel/datasets/nyt1.csv > ../data/nytimes.csv"
     ],
     "language": "python",
     "metadata": {},
     "outputs": [
      {
       "output_type": "stream",
       "stream": "stdout",
       "text": [
        "  % Total    % Received % Xferd  Average Speed   Time    Time     Time  Current\r\n",
        "                                 Dload  Upload   Total   Spent    Left  Speed\r\n",
        "\r",
        "  0     0    0     0    0     0      0      0 --:--:-- --:--:-- --:--:--     0"
       ]
      },
      {
       "output_type": "stream",
       "stream": "stdout",
       "text": [
        "\r",
        "  0 4805k    0  1184    0     0   1218      0  1:07:19 --:--:--  1:07:19  1218"
       ]
      },
      {
       "output_type": "stream",
       "stream": "stdout",
       "text": [
        "\r",
        "  0 4805k    0 48968    0     0  25890      0  0:03:10  0:00:01  0:03:09 25881"
       ]
      },
      {
       "output_type": "stream",
       "stream": "stdout",
       "text": [
        "\r",
        "  8 4805k    8  409k    0     0   134k      0  0:00:35  0:00:03  0:00:32  134k"
       ]
      },
      {
       "output_type": "stream",
       "stream": "stdout",
       "text": [
        "\r",
        " 43 4805k   43 2077k    0     0   522k      0  0:00:09  0:00:03  0:00:06  522k"
       ]
      },
      {
       "output_type": "stream",
       "stream": "stdout",
       "text": [
        "\r",
        "100 4805k  100 4805k    0     0  1028k      0  0:00:04  0:00:04 --:--:-- 1028k\r\n"
       ]
      }
     ],
     "prompt_number": 34
    },
    {
     "cell_type": "code",
     "collapsed": false,
     "input": [
      "df = pd.read_csv('../data/nytimes.csv')"
     ],
     "language": "python",
     "metadata": {},
     "outputs": [],
     "prompt_number": 35
    },
    {
     "cell_type": "code",
     "collapsed": false,
     "input": [
      "df"
     ],
     "language": "python",
     "metadata": {},
     "outputs": [
      {
       "html": [
        "<div style=\"max-height:1000px;max-width:1500px;overflow:auto;\">\n",
        "<table border=\"1\" class=\"dataframe\">\n",
        "  <thead>\n",
        "    <tr style=\"text-align: right;\">\n",
        "      <th></th>\n",
        "      <th>Age</th>\n",
        "      <th>Gender</th>\n",
        "      <th>Impressions</th>\n",
        "      <th>Clicks</th>\n",
        "      <th>Signed_In</th>\n",
        "    </tr>\n",
        "  </thead>\n",
        "  <tbody>\n",
        "    <tr>\n",
        "      <th>0 </th>\n",
        "      <td> 36</td>\n",
        "      <td> 0</td>\n",
        "      <td>  3</td>\n",
        "      <td> 0</td>\n",
        "      <td> 1</td>\n",
        "    </tr>\n",
        "    <tr>\n",
        "      <th>1 </th>\n",
        "      <td> 73</td>\n",
        "      <td> 1</td>\n",
        "      <td>  3</td>\n",
        "      <td> 0</td>\n",
        "      <td> 1</td>\n",
        "    </tr>\n",
        "    <tr>\n",
        "      <th>2 </th>\n",
        "      <td> 30</td>\n",
        "      <td> 0</td>\n",
        "      <td>  3</td>\n",
        "      <td> 0</td>\n",
        "      <td> 1</td>\n",
        "    </tr>\n",
        "    <tr>\n",
        "      <th>3 </th>\n",
        "      <td> 49</td>\n",
        "      <td> 1</td>\n",
        "      <td>  3</td>\n",
        "      <td> 0</td>\n",
        "      <td> 1</td>\n",
        "    </tr>\n",
        "    <tr>\n",
        "      <th>4 </th>\n",
        "      <td> 47</td>\n",
        "      <td> 1</td>\n",
        "      <td> 11</td>\n",
        "      <td> 0</td>\n",
        "      <td> 1</td>\n",
        "    </tr>\n",
        "    <tr>\n",
        "      <th>5 </th>\n",
        "      <td> 47</td>\n",
        "      <td> 0</td>\n",
        "      <td> 11</td>\n",
        "      <td> 1</td>\n",
        "      <td> 1</td>\n",
        "    </tr>\n",
        "    <tr>\n",
        "      <th>6 </th>\n",
        "      <td>  0</td>\n",
        "      <td> 0</td>\n",
        "      <td>  7</td>\n",
        "      <td> 1</td>\n",
        "      <td> 0</td>\n",
        "    </tr>\n",
        "    <tr>\n",
        "      <th>7 </th>\n",
        "      <td> 46</td>\n",
        "      <td> 0</td>\n",
        "      <td>  5</td>\n",
        "      <td> 0</td>\n",
        "      <td> 1</td>\n",
        "    </tr>\n",
        "    <tr>\n",
        "      <th>8 </th>\n",
        "      <td> 16</td>\n",
        "      <td> 0</td>\n",
        "      <td>  3</td>\n",
        "      <td> 0</td>\n",
        "      <td> 1</td>\n",
        "    </tr>\n",
        "    <tr>\n",
        "      <th>9 </th>\n",
        "      <td> 52</td>\n",
        "      <td> 0</td>\n",
        "      <td>  4</td>\n",
        "      <td> 0</td>\n",
        "      <td> 1</td>\n",
        "    </tr>\n",
        "    <tr>\n",
        "      <th>10</th>\n",
        "      <td>  0</td>\n",
        "      <td> 0</td>\n",
        "      <td>  8</td>\n",
        "      <td> 1</td>\n",
        "      <td> 0</td>\n",
        "    </tr>\n",
        "    <tr>\n",
        "      <th>11</th>\n",
        "      <td> 21</td>\n",
        "      <td> 0</td>\n",
        "      <td>  3</td>\n",
        "      <td> 0</td>\n",
        "      <td> 1</td>\n",
        "    </tr>\n",
        "    <tr>\n",
        "      <th>12</th>\n",
        "      <td>  0</td>\n",
        "      <td> 0</td>\n",
        "      <td>  4</td>\n",
        "      <td> 0</td>\n",
        "      <td> 0</td>\n",
        "    </tr>\n",
        "    <tr>\n",
        "      <th>13</th>\n",
        "      <td> 57</td>\n",
        "      <td> 0</td>\n",
        "      <td>  6</td>\n",
        "      <td> 0</td>\n",
        "      <td> 1</td>\n",
        "    </tr>\n",
        "    <tr>\n",
        "      <th>14</th>\n",
        "      <td> 31</td>\n",
        "      <td> 0</td>\n",
        "      <td>  5</td>\n",
        "      <td> 0</td>\n",
        "      <td> 1</td>\n",
        "    </tr>\n",
        "    <tr>\n",
        "      <th>15</th>\n",
        "      <td>  0</td>\n",
        "      <td> 0</td>\n",
        "      <td>  6</td>\n",
        "      <td> 0</td>\n",
        "      <td> 0</td>\n",
        "    </tr>\n",
        "    <tr>\n",
        "      <th>16</th>\n",
        "      <td> 40</td>\n",
        "      <td> 1</td>\n",
        "      <td>  3</td>\n",
        "      <td> 0</td>\n",
        "      <td> 1</td>\n",
        "    </tr>\n",
        "    <tr>\n",
        "      <th>17</th>\n",
        "      <td> 31</td>\n",
        "      <td> 1</td>\n",
        "      <td>  5</td>\n",
        "      <td> 0</td>\n",
        "      <td> 1</td>\n",
        "    </tr>\n",
        "    <tr>\n",
        "      <th>18</th>\n",
        "      <td> 38</td>\n",
        "      <td> 0</td>\n",
        "      <td>  4</td>\n",
        "      <td> 0</td>\n",
        "      <td> 1</td>\n",
        "    </tr>\n",
        "    <tr>\n",
        "      <th>19</th>\n",
        "      <td>  0</td>\n",
        "      <td> 0</td>\n",
        "      <td>  5</td>\n",
        "      <td> 0</td>\n",
        "      <td> 0</td>\n",
        "    </tr>\n",
        "    <tr>\n",
        "      <th>20</th>\n",
        "      <td> 59</td>\n",
        "      <td> 1</td>\n",
        "      <td>  4</td>\n",
        "      <td> 0</td>\n",
        "      <td> 1</td>\n",
        "    </tr>\n",
        "    <tr>\n",
        "      <th>21</th>\n",
        "      <td> 61</td>\n",
        "      <td> 0</td>\n",
        "      <td>  6</td>\n",
        "      <td> 0</td>\n",
        "      <td> 1</td>\n",
        "    </tr>\n",
        "    <tr>\n",
        "      <th>22</th>\n",
        "      <td> 48</td>\n",
        "      <td> 0</td>\n",
        "      <td>  7</td>\n",
        "      <td> 0</td>\n",
        "      <td> 1</td>\n",
        "    </tr>\n",
        "    <tr>\n",
        "      <th>23</th>\n",
        "      <td> 29</td>\n",
        "      <td> 1</td>\n",
        "      <td>  2</td>\n",
        "      <td> 0</td>\n",
        "      <td> 1</td>\n",
        "    </tr>\n",
        "    <tr>\n",
        "      <th>24</th>\n",
        "      <td>  0</td>\n",
        "      <td> 0</td>\n",
        "      <td>  4</td>\n",
        "      <td> 0</td>\n",
        "      <td> 0</td>\n",
        "    </tr>\n",
        "    <tr>\n",
        "      <th>25</th>\n",
        "      <td> 19</td>\n",
        "      <td> 1</td>\n",
        "      <td>  4</td>\n",
        "      <td> 0</td>\n",
        "      <td> 1</td>\n",
        "    </tr>\n",
        "    <tr>\n",
        "      <th>26</th>\n",
        "      <td> 19</td>\n",
        "      <td> 0</td>\n",
        "      <td>  3</td>\n",
        "      <td> 0</td>\n",
        "      <td> 1</td>\n",
        "    </tr>\n",
        "    <tr>\n",
        "      <th>27</th>\n",
        "      <td> 48</td>\n",
        "      <td> 1</td>\n",
        "      <td>  9</td>\n",
        "      <td> 0</td>\n",
        "      <td> 1</td>\n",
        "    </tr>\n",
        "    <tr>\n",
        "      <th>28</th>\n",
        "      <td> 48</td>\n",
        "      <td> 1</td>\n",
        "      <td>  4</td>\n",
        "      <td> 0</td>\n",
        "      <td> 1</td>\n",
        "    </tr>\n",
        "    <tr>\n",
        "      <th>29</th>\n",
        "      <td> 21</td>\n",
        "      <td> 1</td>\n",
        "      <td>  5</td>\n",
        "      <td> 0</td>\n",
        "      <td> 1</td>\n",
        "    </tr>\n",
        "    <tr>\n",
        "      <th>30</th>\n",
        "      <td> 23</td>\n",
        "      <td> 0</td>\n",
        "      <td>  4</td>\n",
        "      <td> 0</td>\n",
        "      <td> 1</td>\n",
        "    </tr>\n",
        "    <tr>\n",
        "      <th>31</th>\n",
        "      <td> 66</td>\n",
        "      <td> 1</td>\n",
        "      <td>  3</td>\n",
        "      <td> 0</td>\n",
        "      <td> 1</td>\n",
        "    </tr>\n",
        "    <tr>\n",
        "      <th>32</th>\n",
        "      <td> 23</td>\n",
        "      <td> 1</td>\n",
        "      <td>  7</td>\n",
        "      <td> 0</td>\n",
        "      <td> 1</td>\n",
        "    </tr>\n",
        "    <tr>\n",
        "      <th>33</th>\n",
        "      <td> 44</td>\n",
        "      <td> 1</td>\n",
        "      <td>  4</td>\n",
        "      <td> 0</td>\n",
        "      <td> 1</td>\n",
        "    </tr>\n",
        "    <tr>\n",
        "      <th>34</th>\n",
        "      <td> 32</td>\n",
        "      <td> 0</td>\n",
        "      <td>  2</td>\n",
        "      <td> 0</td>\n",
        "      <td> 1</td>\n",
        "    </tr>\n",
        "    <tr>\n",
        "      <th>35</th>\n",
        "      <td> 22</td>\n",
        "      <td> 1</td>\n",
        "      <td>  2</td>\n",
        "      <td> 0</td>\n",
        "      <td> 1</td>\n",
        "    </tr>\n",
        "    <tr>\n",
        "      <th>36</th>\n",
        "      <td> 30</td>\n",
        "      <td> 1</td>\n",
        "      <td>  8</td>\n",
        "      <td> 0</td>\n",
        "      <td> 1</td>\n",
        "    </tr>\n",
        "    <tr>\n",
        "      <th>37</th>\n",
        "      <td> 74</td>\n",
        "      <td> 0</td>\n",
        "      <td>  2</td>\n",
        "      <td> 0</td>\n",
        "      <td> 1</td>\n",
        "    </tr>\n",
        "    <tr>\n",
        "      <th>38</th>\n",
        "      <td> 65</td>\n",
        "      <td> 1</td>\n",
        "      <td>  5</td>\n",
        "      <td> 0</td>\n",
        "      <td> 1</td>\n",
        "    </tr>\n",
        "    <tr>\n",
        "      <th>39</th>\n",
        "      <td>  0</td>\n",
        "      <td> 0</td>\n",
        "      <td>  7</td>\n",
        "      <td> 2</td>\n",
        "      <td> 0</td>\n",
        "    </tr>\n",
        "    <tr>\n",
        "      <th>40</th>\n",
        "      <td> 32</td>\n",
        "      <td> 1</td>\n",
        "      <td>  9</td>\n",
        "      <td> 0</td>\n",
        "      <td> 1</td>\n",
        "    </tr>\n",
        "    <tr>\n",
        "      <th>41</th>\n",
        "      <td>  0</td>\n",
        "      <td> 0</td>\n",
        "      <td>  4</td>\n",
        "      <td> 0</td>\n",
        "      <td> 0</td>\n",
        "    </tr>\n",
        "    <tr>\n",
        "      <th>42</th>\n",
        "      <td> 61</td>\n",
        "      <td> 0</td>\n",
        "      <td>  2</td>\n",
        "      <td> 0</td>\n",
        "      <td> 1</td>\n",
        "    </tr>\n",
        "    <tr>\n",
        "      <th>43</th>\n",
        "      <td> 63</td>\n",
        "      <td> 1</td>\n",
        "      <td>  4</td>\n",
        "      <td> 0</td>\n",
        "      <td> 1</td>\n",
        "    </tr>\n",
        "    <tr>\n",
        "      <th>44</th>\n",
        "      <td> 36</td>\n",
        "      <td> 1</td>\n",
        "      <td>  1</td>\n",
        "      <td> 0</td>\n",
        "      <td> 1</td>\n",
        "    </tr>\n",
        "    <tr>\n",
        "      <th>45</th>\n",
        "      <td> 35</td>\n",
        "      <td> 0</td>\n",
        "      <td>  7</td>\n",
        "      <td> 0</td>\n",
        "      <td> 1</td>\n",
        "    </tr>\n",
        "    <tr>\n",
        "      <th>46</th>\n",
        "      <td>  0</td>\n",
        "      <td> 0</td>\n",
        "      <td>  3</td>\n",
        "      <td> 0</td>\n",
        "      <td> 0</td>\n",
        "    </tr>\n",
        "    <tr>\n",
        "      <th>47</th>\n",
        "      <td>  0</td>\n",
        "      <td> 0</td>\n",
        "      <td>  7</td>\n",
        "      <td> 0</td>\n",
        "      <td> 0</td>\n",
        "    </tr>\n",
        "    <tr>\n",
        "      <th>48</th>\n",
        "      <td> 73</td>\n",
        "      <td> 0</td>\n",
        "      <td>  4</td>\n",
        "      <td> 0</td>\n",
        "      <td> 1</td>\n",
        "    </tr>\n",
        "    <tr>\n",
        "      <th>49</th>\n",
        "      <td>  0</td>\n",
        "      <td> 0</td>\n",
        "      <td>  5</td>\n",
        "      <td> 0</td>\n",
        "      <td> 0</td>\n",
        "    </tr>\n",
        "    <tr>\n",
        "      <th>50</th>\n",
        "      <td>  0</td>\n",
        "      <td> 0</td>\n",
        "      <td>  5</td>\n",
        "      <td> 0</td>\n",
        "      <td> 0</td>\n",
        "    </tr>\n",
        "    <tr>\n",
        "      <th>51</th>\n",
        "      <td> 33</td>\n",
        "      <td> 0</td>\n",
        "      <td>  4</td>\n",
        "      <td> 0</td>\n",
        "      <td> 1</td>\n",
        "    </tr>\n",
        "    <tr>\n",
        "      <th>52</th>\n",
        "      <td> 34</td>\n",
        "      <td> 0</td>\n",
        "      <td>  5</td>\n",
        "      <td> 0</td>\n",
        "      <td> 1</td>\n",
        "    </tr>\n",
        "    <tr>\n",
        "      <th>53</th>\n",
        "      <td> 48</td>\n",
        "      <td> 1</td>\n",
        "      <td>  1</td>\n",
        "      <td> 0</td>\n",
        "      <td> 1</td>\n",
        "    </tr>\n",
        "    <tr>\n",
        "      <th>54</th>\n",
        "      <td> 43</td>\n",
        "      <td> 1</td>\n",
        "      <td>  4</td>\n",
        "      <td> 0</td>\n",
        "      <td> 1</td>\n",
        "    </tr>\n",
        "    <tr>\n",
        "      <th>55</th>\n",
        "      <td> 59</td>\n",
        "      <td> 1</td>\n",
        "      <td>  2</td>\n",
        "      <td> 0</td>\n",
        "      <td> 1</td>\n",
        "    </tr>\n",
        "    <tr>\n",
        "      <th>56</th>\n",
        "      <td> 34</td>\n",
        "      <td> 0</td>\n",
        "      <td>  3</td>\n",
        "      <td> 0</td>\n",
        "      <td> 1</td>\n",
        "    </tr>\n",
        "    <tr>\n",
        "      <th>57</th>\n",
        "      <td> 22</td>\n",
        "      <td> 0</td>\n",
        "      <td>  5</td>\n",
        "      <td> 0</td>\n",
        "      <td> 1</td>\n",
        "    </tr>\n",
        "    <tr>\n",
        "      <th>58</th>\n",
        "      <td> 18</td>\n",
        "      <td> 1</td>\n",
        "      <td>  1</td>\n",
        "      <td> 0</td>\n",
        "      <td> 1</td>\n",
        "    </tr>\n",
        "    <tr>\n",
        "      <th>59</th>\n",
        "      <td>  0</td>\n",
        "      <td> 0</td>\n",
        "      <td>  4</td>\n",
        "      <td> 0</td>\n",
        "      <td> 0</td>\n",
        "    </tr>\n",
        "    <tr>\n",
        "      <th></th>\n",
        "      <td>...</td>\n",
        "      <td>...</td>\n",
        "      <td>...</td>\n",
        "      <td>...</td>\n",
        "      <td>...</td>\n",
        "    </tr>\n",
        "  </tbody>\n",
        "</table>\n",
        "<p>458441 rows \u00d7 5 columns</p>\n",
        "</div>"
       ],
       "metadata": {},
       "output_type": "pyout",
       "prompt_number": 36,
       "text": [
        "    Age  Gender  Impressions  Clicks  Signed_In\n",
        "0    36       0            3       0          1\n",
        "1    73       1            3       0          1\n",
        "2    30       0            3       0          1\n",
        "3    49       1            3       0          1\n",
        "4    47       1           11       0          1\n",
        "5    47       0           11       1          1\n",
        "6     0       0            7       1          0\n",
        "7    46       0            5       0          1\n",
        "8    16       0            3       0          1\n",
        "9    52       0            4       0          1\n",
        "10    0       0            8       1          0\n",
        "11   21       0            3       0          1\n",
        "12    0       0            4       0          0\n",
        "13   57       0            6       0          1\n",
        "14   31       0            5       0          1\n",
        "15    0       0            6       0          0\n",
        "16   40       1            3       0          1\n",
        "17   31       1            5       0          1\n",
        "18   38       0            4       0          1\n",
        "19    0       0            5       0          0\n",
        "20   59       1            4       0          1\n",
        "21   61       0            6       0          1\n",
        "22   48       0            7       0          1\n",
        "23   29       1            2       0          1\n",
        "24    0       0            4       0          0\n",
        "25   19       1            4       0          1\n",
        "26   19       0            3       0          1\n",
        "27   48       1            9       0          1\n",
        "28   48       1            4       0          1\n",
        "29   21       1            5       0          1\n",
        "30   23       0            4       0          1\n",
        "31   66       1            3       0          1\n",
        "32   23       1            7       0          1\n",
        "33   44       1            4       0          1\n",
        "34   32       0            2       0          1\n",
        "35   22       1            2       0          1\n",
        "36   30       1            8       0          1\n",
        "37   74       0            2       0          1\n",
        "38   65       1            5       0          1\n",
        "39    0       0            7       2          0\n",
        "40   32       1            9       0          1\n",
        "41    0       0            4       0          0\n",
        "42   61       0            2       0          1\n",
        "43   63       1            4       0          1\n",
        "44   36       1            1       0          1\n",
        "45   35       0            7       0          1\n",
        "46    0       0            3       0          0\n",
        "47    0       0            7       0          0\n",
        "48   73       0            4       0          1\n",
        "49    0       0            5       0          0\n",
        "50    0       0            5       0          0\n",
        "51   33       0            4       0          1\n",
        "52   34       0            5       0          1\n",
        "53   48       1            1       0          1\n",
        "54   43       1            4       0          1\n",
        "55   59       1            2       0          1\n",
        "56   34       0            3       0          1\n",
        "57   22       0            5       0          1\n",
        "58   18       1            1       0          1\n",
        "59    0       0            4       0          0\n",
        "    ...     ...          ...     ...        ...\n",
        "\n",
        "[458441 rows x 5 columns]"
       ]
      }
     ],
     "prompt_number": 36
    },
    {
     "cell_type": "code",
     "collapsed": false,
     "input": [
      "df.describe()"
     ],
     "language": "python",
     "metadata": {},
     "outputs": [
      {
       "html": [
        "<div style=\"max-height:1000px;max-width:1500px;overflow:auto;\">\n",
        "<table border=\"1\" class=\"dataframe\">\n",
        "  <thead>\n",
        "    <tr style=\"text-align: right;\">\n",
        "      <th></th>\n",
        "      <th>Age</th>\n",
        "      <th>Gender</th>\n",
        "      <th>Impressions</th>\n",
        "      <th>Clicks</th>\n",
        "      <th>Signed_In</th>\n",
        "    </tr>\n",
        "  </thead>\n",
        "  <tbody>\n",
        "    <tr>\n",
        "      <th>count</th>\n",
        "      <td> 458441.000000</td>\n",
        "      <td> 458441.000000</td>\n",
        "      <td> 458441.000000</td>\n",
        "      <td> 458441.000000</td>\n",
        "      <td> 458441.000000</td>\n",
        "    </tr>\n",
        "    <tr>\n",
        "      <th>mean</th>\n",
        "      <td>     29.482551</td>\n",
        "      <td>      0.367037</td>\n",
        "      <td>      5.007316</td>\n",
        "      <td>      0.092594</td>\n",
        "      <td>      0.700930</td>\n",
        "    </tr>\n",
        "    <tr>\n",
        "      <th>std</th>\n",
        "      <td>     23.607034</td>\n",
        "      <td>      0.481997</td>\n",
        "      <td>      2.239349</td>\n",
        "      <td>      0.309973</td>\n",
        "      <td>      0.457851</td>\n",
        "    </tr>\n",
        "    <tr>\n",
        "      <th>min</th>\n",
        "      <td>      0.000000</td>\n",
        "      <td>      0.000000</td>\n",
        "      <td>      0.000000</td>\n",
        "      <td>      0.000000</td>\n",
        "      <td>      0.000000</td>\n",
        "    </tr>\n",
        "    <tr>\n",
        "      <th>25%</th>\n",
        "      <td>      0.000000</td>\n",
        "      <td>      0.000000</td>\n",
        "      <td>      3.000000</td>\n",
        "      <td>      0.000000</td>\n",
        "      <td>      0.000000</td>\n",
        "    </tr>\n",
        "    <tr>\n",
        "      <th>50%</th>\n",
        "      <td>     31.000000</td>\n",
        "      <td>      0.000000</td>\n",
        "      <td>      5.000000</td>\n",
        "      <td>      0.000000</td>\n",
        "      <td>      1.000000</td>\n",
        "    </tr>\n",
        "    <tr>\n",
        "      <th>75%</th>\n",
        "      <td>     48.000000</td>\n",
        "      <td>      1.000000</td>\n",
        "      <td>      6.000000</td>\n",
        "      <td>      0.000000</td>\n",
        "      <td>      1.000000</td>\n",
        "    </tr>\n",
        "    <tr>\n",
        "      <th>max</th>\n",
        "      <td>    108.000000</td>\n",
        "      <td>      1.000000</td>\n",
        "      <td>     20.000000</td>\n",
        "      <td>      4.000000</td>\n",
        "      <td>      1.000000</td>\n",
        "    </tr>\n",
        "  </tbody>\n",
        "</table>\n",
        "<p>8 rows \u00d7 5 columns</p>\n",
        "</div>"
       ],
       "metadata": {},
       "output_type": "pyout",
       "prompt_number": 37,
       "text": [
        "                 Age         Gender    Impressions         Clicks  \\\n",
        "count  458441.000000  458441.000000  458441.000000  458441.000000   \n",
        "mean       29.482551       0.367037       5.007316       0.092594   \n",
        "std        23.607034       0.481997       2.239349       0.309973   \n",
        "min         0.000000       0.000000       0.000000       0.000000   \n",
        "25%         0.000000       0.000000       3.000000       0.000000   \n",
        "50%        31.000000       0.000000       5.000000       0.000000   \n",
        "75%        48.000000       1.000000       6.000000       0.000000   \n",
        "max       108.000000       1.000000      20.000000       4.000000   \n",
        "\n",
        "           Signed_In  \n",
        "count  458441.000000  \n",
        "mean        0.700930  \n",
        "std         0.457851  \n",
        "min         0.000000  \n",
        "25%         0.000000  \n",
        "50%         1.000000  \n",
        "75%         1.000000  \n",
        "max         1.000000  \n",
        "\n",
        "[8 rows x 5 columns]"
       ]
      }
     ],
     "prompt_number": 37
    },
    {
     "cell_type": "code",
     "collapsed": false,
     "input": [
      "df[:10]"
     ],
     "language": "python",
     "metadata": {},
     "outputs": [
      {
       "html": [
        "<div style=\"max-height:1000px;max-width:1500px;overflow:auto;\">\n",
        "<table border=\"1\" class=\"dataframe\">\n",
        "  <thead>\n",
        "    <tr style=\"text-align: right;\">\n",
        "      <th></th>\n",
        "      <th>Age</th>\n",
        "      <th>Gender</th>\n",
        "      <th>Impressions</th>\n",
        "      <th>Clicks</th>\n",
        "      <th>Signed_In</th>\n",
        "    </tr>\n",
        "  </thead>\n",
        "  <tbody>\n",
        "    <tr>\n",
        "      <th>0</th>\n",
        "      <td> 36</td>\n",
        "      <td> 0</td>\n",
        "      <td>  3</td>\n",
        "      <td> 0</td>\n",
        "      <td> 1</td>\n",
        "    </tr>\n",
        "    <tr>\n",
        "      <th>1</th>\n",
        "      <td> 73</td>\n",
        "      <td> 1</td>\n",
        "      <td>  3</td>\n",
        "      <td> 0</td>\n",
        "      <td> 1</td>\n",
        "    </tr>\n",
        "    <tr>\n",
        "      <th>2</th>\n",
        "      <td> 30</td>\n",
        "      <td> 0</td>\n",
        "      <td>  3</td>\n",
        "      <td> 0</td>\n",
        "      <td> 1</td>\n",
        "    </tr>\n",
        "    <tr>\n",
        "      <th>3</th>\n",
        "      <td> 49</td>\n",
        "      <td> 1</td>\n",
        "      <td>  3</td>\n",
        "      <td> 0</td>\n",
        "      <td> 1</td>\n",
        "    </tr>\n",
        "    <tr>\n",
        "      <th>4</th>\n",
        "      <td> 47</td>\n",
        "      <td> 1</td>\n",
        "      <td> 11</td>\n",
        "      <td> 0</td>\n",
        "      <td> 1</td>\n",
        "    </tr>\n",
        "    <tr>\n",
        "      <th>5</th>\n",
        "      <td> 47</td>\n",
        "      <td> 0</td>\n",
        "      <td> 11</td>\n",
        "      <td> 1</td>\n",
        "      <td> 1</td>\n",
        "    </tr>\n",
        "    <tr>\n",
        "      <th>6</th>\n",
        "      <td>  0</td>\n",
        "      <td> 0</td>\n",
        "      <td>  7</td>\n",
        "      <td> 1</td>\n",
        "      <td> 0</td>\n",
        "    </tr>\n",
        "    <tr>\n",
        "      <th>7</th>\n",
        "      <td> 46</td>\n",
        "      <td> 0</td>\n",
        "      <td>  5</td>\n",
        "      <td> 0</td>\n",
        "      <td> 1</td>\n",
        "    </tr>\n",
        "    <tr>\n",
        "      <th>8</th>\n",
        "      <td> 16</td>\n",
        "      <td> 0</td>\n",
        "      <td>  3</td>\n",
        "      <td> 0</td>\n",
        "      <td> 1</td>\n",
        "    </tr>\n",
        "    <tr>\n",
        "      <th>9</th>\n",
        "      <td> 52</td>\n",
        "      <td> 0</td>\n",
        "      <td>  4</td>\n",
        "      <td> 0</td>\n",
        "      <td> 1</td>\n",
        "    </tr>\n",
        "  </tbody>\n",
        "</table>\n",
        "<p>10 rows \u00d7 5 columns</p>\n",
        "</div>"
       ],
       "metadata": {},
       "output_type": "pyout",
       "prompt_number": 38,
       "text": [
        "   Age  Gender  Impressions  Clicks  Signed_In\n",
        "0   36       0            3       0          1\n",
        "1   73       1            3       0          1\n",
        "2   30       0            3       0          1\n",
        "3   49       1            3       0          1\n",
        "4   47       1           11       0          1\n",
        "5   47       0           11       1          1\n",
        "6    0       0            7       1          0\n",
        "7   46       0            5       0          1\n",
        "8   16       0            3       0          1\n",
        "9   52       0            4       0          1\n",
        "\n",
        "[10 rows x 5 columns]"
       ]
      }
     ],
     "prompt_number": 38
    },
    {
     "cell_type": "code",
     "collapsed": false,
     "input": [
      "# Create the average impressions and clicks for each age.\n",
      "dfg = df[ ['Age', 'Impressions', 'Clicks'] ].groupby(['Age']).agg([mean])"
     ],
     "language": "python",
     "metadata": {},
     "outputs": [],
     "prompt_number": 39
    },
    {
     "cell_type": "code",
     "collapsed": false,
     "input": [
      "dfg[:10]"
     ],
     "language": "python",
     "metadata": {},
     "outputs": [
      {
       "html": [
        "<div style=\"max-height:1000px;max-width:1500px;overflow:auto;\">\n",
        "<table border=\"1\" class=\"dataframe\">\n",
        "  <thead>\n",
        "    <tr>\n",
        "      <th></th>\n",
        "      <th>Impressions</th>\n",
        "      <th>Clicks</th>\n",
        "    </tr>\n",
        "    <tr>\n",
        "      <th></th>\n",
        "      <th>mean</th>\n",
        "      <th>mean</th>\n",
        "    </tr>\n",
        "    <tr>\n",
        "      <th>Age</th>\n",
        "      <th></th>\n",
        "      <th></th>\n",
        "    </tr>\n",
        "  </thead>\n",
        "  <tbody>\n",
        "    <tr>\n",
        "      <th>0 </th>\n",
        "      <td> 4.999657</td>\n",
        "      <td> 0.142080</td>\n",
        "    </tr>\n",
        "    <tr>\n",
        "      <th>7 </th>\n",
        "      <td> 5.200000</td>\n",
        "      <td> 0.600000</td>\n",
        "    </tr>\n",
        "    <tr>\n",
        "      <th>8 </th>\n",
        "      <td> 6.266667</td>\n",
        "      <td> 0.266667</td>\n",
        "    </tr>\n",
        "    <tr>\n",
        "      <th>9 </th>\n",
        "      <td> 5.520833</td>\n",
        "      <td> 0.104167</td>\n",
        "    </tr>\n",
        "    <tr>\n",
        "      <th>10</th>\n",
        "      <td> 4.814159</td>\n",
        "      <td> 0.168142</td>\n",
        "    </tr>\n",
        "    <tr>\n",
        "      <th>11</th>\n",
        "      <td> 5.095406</td>\n",
        "      <td> 0.127208</td>\n",
        "    </tr>\n",
        "    <tr>\n",
        "      <th>12</th>\n",
        "      <td> 4.885666</td>\n",
        "      <td> 0.156997</td>\n",
        "    </tr>\n",
        "    <tr>\n",
        "      <th>13</th>\n",
        "      <td> 4.995279</td>\n",
        "      <td> 0.149197</td>\n",
        "    </tr>\n",
        "    <tr>\n",
        "      <th>14</th>\n",
        "      <td> 5.035506</td>\n",
        "      <td> 0.133877</td>\n",
        "    </tr>\n",
        "    <tr>\n",
        "      <th>15</th>\n",
        "      <td> 4.944338</td>\n",
        "      <td> 0.150480</td>\n",
        "    </tr>\n",
        "  </tbody>\n",
        "</table>\n",
        "<p>10 rows \u00d7 2 columns</p>\n",
        "</div>"
       ],
       "metadata": {},
       "output_type": "pyout",
       "prompt_number": 40,
       "text": [
        "     Impressions    Clicks\n",
        "            mean      mean\n",
        "Age                       \n",
        "0       4.999657  0.142080\n",
        "7       5.200000  0.600000\n",
        "8       6.266667  0.266667\n",
        "9       5.520833  0.104167\n",
        "10      4.814159  0.168142\n",
        "11      5.095406  0.127208\n",
        "12      4.885666  0.156997\n",
        "13      4.995279  0.149197\n",
        "14      5.035506  0.133877\n",
        "15      4.944338  0.150480\n",
        "\n",
        "[10 rows x 2 columns]"
       ]
      }
     ],
     "prompt_number": 40
    },
    {
     "cell_type": "code",
     "collapsed": false,
     "input": [
      "# Likewise, we can create new variables:\n",
      "df['log_impressions'] = df['Impressions'].apply(log)\n",
      "df['log_impressions']"
     ],
     "language": "python",
     "metadata": {},
     "outputs": [
      {
       "metadata": {},
       "output_type": "pyout",
       "prompt_number": 45,
       "text": [
        "0     1.098612\n",
        "1     1.098612\n",
        "2     1.098612\n",
        "3     1.098612\n",
        "4     2.397895\n",
        "5     2.397895\n",
        "6     1.945910\n",
        "7     1.609438\n",
        "8     1.098612\n",
        "9     1.386294\n",
        "10    2.079442\n",
        "11    1.098612\n",
        "12    1.386294\n",
        "13    1.791759\n",
        "14    1.609438\n",
        "...\n",
        "458426    2.197225\n",
        "458427    2.197225\n",
        "458428    1.386294\n",
        "458429    2.397895\n",
        "458430    1.791759\n",
        "458431    1.609438\n",
        "458432    1.386294\n",
        "458433    0.693147\n",
        "458434    1.791759\n",
        "458435    1.945910\n",
        "458436    0.693147\n",
        "458437    1.386294\n",
        "458438    1.609438\n",
        "458439    1.609438\n",
        "458440    1.098612\n",
        "Name: log_impressions, Length: 458441, dtype: float64"
       ]
      }
     ],
     "prompt_number": 45
    },
    {
     "cell_type": "code",
     "collapsed": false,
     "input": [
      "# Or even recluster our values into more specific age groups:\n",
      "\n",
      "def map_age_category(x):\n",
      "    \"\"\"\n",
      "    Function that groups users by age.\n",
      "    \"\"\"\n",
      "    if x == 0:\n",
      "        return 0\n",
      "    elif x < 18:\n",
      "        return 1\n",
      "    elif x < 25:\n",
      "        return 2\n",
      "    elif x < 32:\n",
      "        return 3\n",
      "    elif x < 45:\n",
      "        return 4\n",
      "    else:\n",
      "        return 5"
     ],
     "language": "python",
     "metadata": {},
     "outputs": [],
     "prompt_number": 72
    },
    {
     "cell_type": "code",
     "collapsed": false,
     "input": [
      "df['age_categories'] = df['Age'].apply(map_age_category)\n",
      "\n",
      "df[['age_categories']].describe()"
     ],
     "language": "python",
     "metadata": {},
     "outputs": [
      {
       "html": [
        "<div style=\"max-height:1000px;max-width:1500px;overflow:auto;\">\n",
        "<table border=\"1\" class=\"dataframe\">\n",
        "  <thead>\n",
        "    <tr style=\"text-align: right;\">\n",
        "      <th></th>\n",
        "      <th>age_categories</th>\n",
        "    </tr>\n",
        "  </thead>\n",
        "  <tbody>\n",
        "    <tr>\n",
        "      <th>count</th>\n",
        "      <td> 458441.000000</td>\n",
        "    </tr>\n",
        "    <tr>\n",
        "      <th>mean</th>\n",
        "      <td>      2.744600</td>\n",
        "    </tr>\n",
        "    <tr>\n",
        "      <th>std</th>\n",
        "      <td>      2.056163</td>\n",
        "    </tr>\n",
        "    <tr>\n",
        "      <th>min</th>\n",
        "      <td>      0.000000</td>\n",
        "    </tr>\n",
        "    <tr>\n",
        "      <th>25%</th>\n",
        "      <td>      0.000000</td>\n",
        "    </tr>\n",
        "    <tr>\n",
        "      <th>50%</th>\n",
        "      <td>      3.000000</td>\n",
        "    </tr>\n",
        "    <tr>\n",
        "      <th>75%</th>\n",
        "      <td>      5.000000</td>\n",
        "    </tr>\n",
        "    <tr>\n",
        "      <th>max</th>\n",
        "      <td>      5.000000</td>\n",
        "    </tr>\n",
        "  </tbody>\n",
        "</table>\n",
        "<p>8 rows \u00d7 1 columns</p>\n",
        "</div>"
       ],
       "metadata": {},
       "output_type": "pyout",
       "prompt_number": 76,
       "text": [
        "       age_categories\n",
        "count   458441.000000\n",
        "mean         2.744600\n",
        "std          2.056163\n",
        "min          0.000000\n",
        "25%          0.000000\n",
        "50%          3.000000\n",
        "75%          5.000000\n",
        "max          5.000000\n",
        "\n",
        "[8 rows x 1 columns]"
       ]
      }
     ],
     "prompt_number": 76
    },
    {
     "cell_type": "heading",
     "level": 3,
     "metadata": {},
     "source": [
      "Classwork"
     ]
    },
    {
     "cell_type": "markdown",
     "metadata": {},
     "source": [
      "The NYTimes data is hosted across 30 csv files:"
     ]
    },
    {
     "cell_type": "markdown",
     "metadata": {},
     "source": [
      "```bash\n",
      "# Replace # with anything between 1 and 30\n",
      "http://stat.columbia.edu/~rachel/datasets/nyt1.csv\n",
      "```"
     ]
    },
    {
     "cell_type": "markdown",
     "metadata": {},
     "source": [
      "We'd like to use Pandas and numpy to have a simple script that aggregates all of this data into one dataframe. This time, let's just get the **click through rate** per **age**, **gender**, and **signed_in** (remember that CTR is calculated as clicks/impressions).\n",
      "\n",
      "You can export the final dataframe using pandas to_csv:"
     ]
    },
    {
     "cell_type": "code",
     "collapsed": false,
     "input": [
      "df.to_csv('nytimes_aggregation.csv')"
     ],
     "language": "python",
     "metadata": {},
     "outputs": [],
     "prompt_number": 61
    },
    {
     "cell_type": "markdown",
     "metadata": {},
     "source": [
      "Explore plotting your new aggregated data in various forms to understand the feature space, and try using sklearn\u2019s linear model function with your aggregate data to predict CTR per age."
     ]
    },
    {
     "cell_type": "markdown",
     "metadata": {},
     "source": [
      "You may have to use the `astype` function to help convert between ints and floats. Refer the to [numpy documentation](http://docs.scipy.org/doc/numpy/reference/generated/numpy.ndarray.astype.html) for more."
     ]
    },
    {
     "cell_type": "code",
     "collapsed": false,
     "input": [
      "# inspect the dtypes\n",
      "df.dtypes"
     ],
     "language": "python",
     "metadata": {},
     "outputs": [
      {
       "metadata": {},
       "output_type": "pyout",
       "prompt_number": 80,
       "text": [
        "Age                  int64\n",
        "Gender               int64\n",
        "Impressions          int64\n",
        "Clicks               int64\n",
        "Signed_In            int64\n",
        "log_impressions    float64\n",
        "age_categories       int64\n",
        "dtype: object"
       ]
      }
     ],
     "prompt_number": 80
    },
    {
     "cell_type": "markdown",
     "metadata": {},
     "source": [
      "Pandas dataframes has some built-in plotting methods that are wrappers for matplotlib. To see a histogram of your distribution, see the [hist()](http://pandas.pydata.org/pandas-docs/version/0.13.1/generated/pandas.DataFrame.hist.html) documentation."
     ]
    },
    {
     "cell_type": "code",
     "collapsed": false,
     "input": [
      "import matplotlib.pyplot as plt\n",
      "\n",
      "df.hist(figsize=(18,12))\n",
      "plt.show()"
     ],
     "language": "python",
     "metadata": {},
     "outputs": [
      {
       "metadata": {},
       "output_type": "display_data",
       "png": "[encoded data removed]",
       "text": [
        "<matplotlib.figure.Figure at 0x9864210>"
       ]
      }
     ],
     "prompt_number": 102
    },
    {
     "cell_type": "markdown",
     "metadata": {},
     "source": [
      "More generally, we'll be using matplotlib to plot our graphics. Play around with the following code to understand what it does, or consult the [matplotlib.plot() documentation](http://matplotlib.org/api/pyplot_api.html#matplotlib.pyplot.plot) for further details."
     ]
    },
    {
     "cell_type": "code",
     "collapsed": false,
     "input": [
      "x = linspace(-15,15,100) # 100 linearly spaced numbers\n",
      "y = sin(x)/x # computing the values of sin(x)/x\n",
      "\n",
      "# compose plot\n",
      "fig = plt.figure(figsize=(18, 8), dpi=300)\n",
      "plt.plot(x,y) # sin(x)/x\n",
      "plt.plot(x,y,'co') # same function with cyan dots\n",
      "plt.plot(x,2*y,x,3*y) # 2*sin(x)/x and 3*sin(x)/x\n",
      "plt.show() # show the plot"
     ],
     "language": "python",
     "metadata": {},
     "outputs": [
      {
       "metadata": {},
       "output_type": "display_data",
       "png": "[encoded data removed]",
       "text": [
        "<matplotlib.figure.Figure at 0x9cf5bd0>"
       ]
      }
     ],
     "prompt_number": 98
    },
    {
     "cell_type": "markdown",
     "metadata": {},
     "source": [
      "Once you've figured out how to use the plot method from matplotlib, try plotting the various relationships from your NYTimes DataFrame."
     ]
    },
    {
     "cell_type": "markdown",
     "metadata": {},
     "source": [
      "Once you're ready to submit yout work, keep the csv file on your computer, but send your code over to GitHub. This should be much simpler than anything else we've done so far!\n",
      "\n",
      "**Commit your scripts to GitHub under /code/student/lesson03/.**"
     ]
    },
    {
     "cell_type": "heading",
     "level": 2,
     "metadata": {},
     "source": [
      "Discussion : Final Project Ideas"
     ]
    },
    {
     "cell_type": "markdown",
     "metadata": {},
     "source": [
      "1. Curate a list of potential final project ideas, as our goal is to answer a question using machine learning. for each question: which \u201cproblem\u201d does it fall under?\n",
      "2. We\u2019ll discuss these in smaller groups first, and share some ideas together as a class."
     ]
    },
    {
     "cell_type": "heading",
     "level": 2,
     "metadata": {},
     "source": [
      "Homework"
     ]
    },
    {
     "cell_type": "markdown",
     "metadata": {},
     "source": [
      "Please finish your classwork if you have not."
     ]
    },
    {
     "cell_type": "markdown",
     "metadata": {},
     "source": [
      "![break](assets/resources.png)"
     ]
    },
    {
     "cell_type": "heading",
     "level": 2,
     "metadata": {},
     "source": [
      "Resources"
     ]
    }
   ],
   "metadata": {}
  }
 ]
}